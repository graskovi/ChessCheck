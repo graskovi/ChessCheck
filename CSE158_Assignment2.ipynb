{
 "cells": [
  {
   "cell_type": "markdown",
   "metadata": {},
   "source": [
    "# CSE 158: Assignment 2\n",
    "\n",
    "## This is an open-ended assignment in which you are expected to write a detailed report documenting your results. Please submit your solution electronically via gradescope, on or before Dec 3 (Tuesday week 10). This assignment is worth 25% of the final grade.\n",
    "\n",
    "## Specify the names of all of your group members when submitting. Submissions should be in the form of a written report, which is expected to be at least four pages (double column, 11pt), or roughly 2.5-3 thousand words, plus figures, tables, and equations. See an example template in the lecture slides to get an idea of the length expected."
   ]
  },
  {
   "cell_type": "markdown",
   "metadata": {},
   "source": [
    "## Tasks\n",
    "\n",
    "### 1. Identify a dataset to study, and perform an exploratory analysis of the data. Describe the dataset, including its basic statistics and properties, and report any interesting findings. This exploratory analysis should motivate the design of your model in the following sections. Datasets should be reasonably large (e.g. more than 50,000 samples)."
   ]
  },
  {
   "cell_type": "code",
   "execution_count": 8,
   "metadata": {},
   "outputs": [],
   "source": [
    "from collections import defaultdict, namedtuple\n",
    "\n",
    "import csv\n",
    "import numpy as np"
   ]
  },
  {
   "cell_type": "code",
   "execution_count": 35,
   "metadata": {},
   "outputs": [],
   "source": [
    "class Game:\n",
    "    def __init__(self, line):\n",
    "        # Game ID\n",
    "        self.id = line[0]\n",
    "        \n",
    "        # Whether game was rated or not\n",
    "        self.rated = True if line[1] is 'TRUE' else False\n",
    "        \n",
    "        # Time of game creation and last move\n",
    "        self.created_at = float(line[2])\n",
    "        self.last_move_at = float(line[3])\n",
    "        \n",
    "        # Number of turns in game\n",
    "        self.turns = int(line[4])\n",
    "        \n",
    "        # Game result: 'outoftime resign mate draw'\n",
    "        self.victory_status = line[5]\n",
    "        \n",
    "        # Game winner: 'white black draw'\n",
    "        self.winner = line[6]\n",
    "        \n",
    "        # Time increment, describes game timing in time+increment form\n",
    "        self.increment_code = line[7]\n",
    "        \n",
    "        # ID and rating of white and black players\n",
    "        self.white_id = line[8]\n",
    "        self.white_rating = int(line[9])\n",
    "        self.black_id = line[10]\n",
    "        self.black_rating = int(line[11])\n",
    "        \n",
    "        # All game moves in standard chess notation\n",
    "        self.moves = line[12]\n",
    "        \n",
    "        # Standardised code for opening\n",
    "        self.opening_eco = line[13]\n",
    "        \n",
    "        # Opening name and number of moves in opening phase\n",
    "        self.opening_name = line[14]\n",
    "        self.opening_ply = int(line[15])\n",
    "    \n",
    "    def __repr__(self):\n",
    "        return 'Game {}, rated {}, turns {}, status {}, winner {}'.format(self.id, self.rated, self.turns,\n",
    "                                                                          self.victory_status, self.winner)"
   ]
  },
  {
   "cell_type": "code",
   "execution_count": 36,
   "metadata": {},
   "outputs": [],
   "source": [
    "def ParseCsv(filepath : str):\n",
    "    with open(filepath) as csv_file:\n",
    "        csv_reader = csv.reader(csv_file, delimiter=',')\n",
    "        next(csv_reader, None)\n",
    "        for row in csv_reader:\n",
    "            yield row"
   ]
  },
  {
   "cell_type": "code",
   "execution_count": 37,
   "metadata": {},
   "outputs": [
    {
     "name": "stdout",
     "output_type": "stream",
     "text": [
      "['TZJHLljE', 'FALSE', '1.50421E+12', '1.50421E+12', '13', 'outoftime', 'white', '15+2', 'bourgris', '1500', 'a-00', '1191', 'd4 d5 c4 c6 cxd5 e6 dxe6 fxe6 Nf3 Bb4+ Nc3 Ba5 Bf4', 'D10', 'Slav Defense: Exchange Variation', '5']\n",
      "['l1NXvwaE', 'TRUE', '1.50413E+12', '1.50413E+12', '16', 'resign', 'black', '5+10', 'a-00', '1322', 'skinnerua', '1261', 'd4 Nc6 e4 e5 f4 f6 dxe5 fxe5 fxe5 Nxe5 Qd4 Nc6 Qe5+ Nxe5 c4 Bb4+', 'B00', 'Nimzowitsch Defense: Kennedy Variation', '4']\n",
      "['mIICvQHh', 'TRUE', '1.50413E+12', '1.50413E+12', '61', 'mate', 'white', '5+10', 'ischia', '1496', 'a-00', '1500', 'e4 e5 d3 d6 Be3 c6 Be2 b5 Nd2 a5 a4 c5 axb5 Nc6 bxc6 Ra6 Nc4 a4 c3 a3 Nxa3 Rxa3 Rxa3 c4 dxc4 d5 cxd5 Qxd5 exd5 Be6 Ra8+ Ke7 Bc5+ Kf6 Bxf8 Kg6 Bxg7 Kxg7 dxe6 Kh6 exf7 Nf6 Rxh8 Nh5 Bxh5 Kg5 Rxh7 Kf5 Qf3+ Ke6 Bg4+ Kd6 Rh6+ Kc5 Qe3+ Kb5 c4+ Kb4 Qc3+ Ka4 Bd1#', 'C20', \"King's Pawn Game: Leonardis Variation\", '3']\n",
      "['kWKvrqYL', 'TRUE', '1.50411E+12', '1.50411E+12', '61', 'mate', 'white', '20+0', 'daniamurashov', '1439', 'adivanov2009', '1454', 'd4 d5 Nf3 Bf5 Nc3 Nf6 Bf4 Ng4 e3 Nc6 Be2 Qd7 O-O O-O-O Nb5 Nb4 Rc1 Nxa2 Ra1 Nb4 Nxa7+ Kb8 Nb5 Bxc2 Bxc7+ Kc8 Qd2 Qc6 Na7+ Kd7 Nxc6 bxc6 Bxd8 Kxd8 Qxb4 e5 Qb8+ Ke7 dxe5 Be4 Ra7+ Ke6 Qe8+ Kf5 Qxf7+ Nf6 Nh4+ Kg5 g3 Ng4 Qf4+ Kh5 Qxg4+ Kh6 Qf4+ g5 Qf6+ Bg6 Nxg6 Bg7 Qxg7#', 'D02', \"Queen's Pawn Game: Zukertort Variation\", '3']\n",
      "['9tXo1AUZ', 'TRUE', '1.50403E+12', '1.50403E+12', '95', 'mate', 'white', '30+3', 'nik221107', '1523', 'adivanov2009', '1469', 'e4 e5 Nf3 d6 d4 Nc6 d5 Nb4 a3 Na6 Nc3 Be7 b4 Nf6 Bg5 O-O b5 Nc5 Bxf6 Bxf6 Bd3 Qd7 O-O Nxd3 Qxd3 c6 a4 cxd5 Nxd5 Qe6 Nc7 Qg4 Nxa8 Bd7 Nc7 Rc8 Nd5 Qg6 Nxf6+ Qxf6 Rfd1 Re8 Qxd6 Bg4 Qxf6 gxf6 Rd3 Bxf3 Rxf3 Rd8 Rxf6 Kg7 Rf3 Rd2 Rg3+ Kf8 c3 Re2 f3 Rc2 Rg5 f6 Rh5 Kg7 Rd1 Kg6 Rh3 Rxc3 Rd7 Rc1+ Kf2 Rc2+ Kg3 h5 Rxb7 Kg5 Rxa7 h4+ Rxh4 Rxg2+ Kxg2 Kxh4 b6 Kg5 b7 f5 exf5 Kxf5 b8=Q e4 Rf7+ Kg5 Qg8+ Kh6 Rh7#', 'C41', 'Philidor Defense', '5']\n",
      "['MsoDV9wj', 'FALSE', '1.50424E+12', '1.50424E+12', '5', 'draw', 'draw', '10+0', 'trelynn17', '1250', 'franklin14532', '1002', 'e4 c5 Nf3 Qa5 a3', 'B27', 'Sicilian Defense: Mongoose Variation', '4']\n",
      "['qwU9rasv', 'TRUE', '1.50423E+12', '1.50423E+12', '33', 'resign', 'white', '10+0', 'capa_jr', '1520', 'daniel_likes_chess', '1423', 'd4 d5 e4 dxe4 Nc3 Nf6 f3 exf3 Nxf3 Nc6 Bb5 a6 Bd3 Bg4 O-O Nxd4 Be2 Nxe2+ Qxe2 Bxf3 Qxf3 Qd4+ Be3 Qg4 Qxb7 Rd8 Qc6+ Nd7 Nd5 e6 Nxc7+ Ke7 Bd2', 'D00', 'Blackmar-Diemer Gambit: Pietrowsky Defense', '10']\n",
      "['RVN0N3VK', 'FALSE', '1.50368E+12', '1.50368E+12', '9', 'resign', 'black', '15+30', 'daniel_likes_chess', '1413', 'soultego', '2108', 'e4 Nc6 d4 e5 d5 Nce7 c3 Ng6 b4', 'B00', 'Nimzowitsch Defense: Kennedy Variation |  Linksspringer Variation', '5']\n",
      "['dwF3DJHO', 'TRUE', '1.50351E+12', '1.50351E+12', '66', 'resign', 'black', '15+0', 'ehabfanri', '1439', 'daniel_likes_chess', '1392', 'e4 e5 Bc4 Nc6 Nf3 Nd4 d3 Nxf3+ Qxf3 Nf6 h3 Bc5 a3 O-O Be3 Bxe3 Qxe3 Re8 Qf3 c6 Nc3 b5 Bb3 Qa5 O-O Bb7 Ne2 c5 Rfd1 d6 c4 bxc4 dxc4 Rac8 Rd5 Bxd5 exd5 Qb6 Nc1 e4 Qf4 Nh5 Qg4 Nf6 Qf4 Qa5 Bc2 Qe1+ Kh2 Nh5 Qxd6 Qxf2 Bxe4 Rxe4 Nd3 Qg3+ Kg1 Qxd3 Rf1 Rce8 Qd7 Qe3+ Kh1 Ng3+ Kh2 Nxf1+', 'C50', 'Italian Game: Schilling-Kostic Gambit', '6']\n",
      "['afoMwnLg', 'TRUE', '1.50344E+12', '1.50344E+12', '119', 'mate', 'white', '10+0', 'daniel_likes_chess', '1381', 'mirco25', '1209', 'e4 d5 exd5 Qxd5 Nc3 Qe5+ Be2 Na6 d4 Qf5 Bxa6 bxa6 Nf3 Qe6+ Be3 Bb7 Ng5 Qc4 Qh5 Bxg2 Qxf7+ Qxf7 Nxf7 Kxf7 Rg1 Bf3 Rg3 Bh5 Rh3 g6 Ne4 Nf6 Nc5 e6 Nxa6 Rc8 Bf4 Bg4 Rg3 c6 Nb4 Bxb4+ c3 Ba5 b4 Bc7 Bxc7 Rxc7 Rb1 e5 dxe5 Re8 f4 Rd7 Kf2 Rd2+ Kg1 Rxa2 exf6 Kxf6 Rxg4 Kf5 Rg2 Rxg2+ Kxg2 Re2+ Kf3 Re4 Ra1 Rxf4+ Kg3 Rg4+ Kh3 h5 Rxa7 g5 Rf7+ Kg6 Rf3 Rf4 Rxf4 gxf4 Kg2 Kg5 c4 h4 b5 cxb5 cxb5 Kg4 b6 f3+ Kf2 Kf4 b7 h3 b8=Q+ Ke4 Qb4+ Kd5 Kxf3 Ke5 Kg3 Kf6 Qe4 Kg5 Qf3 Kh6 Qg4 Kh7 Qg5 Kh8 Kf4 Kh7 Kf5 Kh8 Kf6 Kh7 Qg7#', 'B01', 'Scandinavian Defense: Mieses-Kotroc Variation', '4']\n",
      "['HgKLWPsz', 'FALSE', '1.50335E+12', '1.50335E+12', '39', 'mate', 'white', '20+60', 'daniel_likes_chess', '1381', 'anaissac', '1272', 'e3 e6 d4 d6 Bd3 c6 Nf3 Be7 Nc3 Nf6 Bd2 Bd7 Qe2 c5 dxc5 dxc5 O-O b6 Rfe1 Bc6 e4 O-O e5 Nd5 Nxd5 Qxd5 Bc4 Qd7 Rad1 Qb7 Bg5 Re8 Bxe7 Rxe7 Rd8+ Re8 Red1 Bd5 Rxe8#', 'A00', \"Van't Kruijs Opening\", '1']\n",
      "['Vf5fKWzI', 'FALSE', '1.50335E+12', '1.50335E+12', '38', 'resign', 'black', '20+60', 'daniel_likes_chess', '1381', 'subham777', '1867', 'e4 e6 d4 d5 e5 c5 c3 Nc6 Nf3 Qb6 Be3 Qxb2 Nbd2 cxd4 cxd4 Nb4 Rb1 Qxa2 Qb3 Qxb3 Nxb3 Nc2+ Kd1 Nxe3+ fxe3 Ne7 Nc5 Nf5 e4 dxe4 Nxe4 Ne3+ Ke2 Nxf1 Rhxf1 b6 Ned2 Ba6+', 'C02', 'French Defense: Advance Variation |  Paulsen Attack', '9']\n",
      "['HRti5mKv', 'FALSE', '1.50335E+12', '1.50335E+12', '60', 'resign', 'black', '5+40', 'daniel_likes_chess', '1381', 'roman12342005', '1936', 'e4 e6 Nf3 d5 exd5 exd5 Qe2+ Be7 Nc3 Nf6 d4 O-O g4 Bxg4 Bg2 Nbd7 O-O c6 h3 Bh5 Bf4 Re8 Rfe1 Bd6 Be3 Nb6 Ng5 h6 Nf3 Nc4 b3 Nxe3 fxe3 Bf4 Nd1 Nd7 Qd2 Bd6 c4 dxc4 bxc4 a5 a4 Bb4 Nc3 Qc7 Rad1 Bxc3 Qxc3 Qg3 e4 Re6 d5 Rf6 Re3 Nc5 Ra1 Rg6 Ra2 Nxe4', 'C00', 'French Defense: Knight Variation', '3']\n",
      "['2fEjSei6', 'FALSE', '1.50334E+12', '1.50334E+12', '31', 'resign', 'black', '8+0', 'daniel_likes_chess', '1381', 'alkhan', '1607', 'e4 e6 Qh5 g6 Qe5 Nf6 d4 d6 Qb5+ Bd7 Qxb7 Bc6 Qb3 Nxe4 Qe3 Nd7 f3 Nef6 Bd3 Bg7 Qf2 Nh5 g4 Nf4 Qg3 Nxd3+ cxd3 Bxd4 Nc3 Nc5 Be3', 'C00', 'French Defense #2', '2']\n",
      "['u7i6dOaJ', 'FALSE', '1.50409E+12', '1.5041E+12', '31', 'mate', 'white', '15+15', 'shivangithegenius', '1094', 'sureka_akshat', '1141', 'e4 e5 Nf3 Nc6 Bc4 Nf6 Nc3 Bc5 O-O O-O d3 Ne8 Bg5 Nf6 Nd5 h6 Nxf6+ gxf6 Bxh6 Re8 Ne1 d6 Qh5 Re7 Nf3 Be6 Bxe6 Rxe6 Qg4+ Kh8 Qg7#', 'C50', 'Four Knights Game: Italian Variation', '8']\n",
      "['guanvMR5', 'FALSE', '1.50409E+12', '1.50409E+12', '43', 'resign', 'black', '15+15', 'sureka_akshat', '1141', 'shivangithegenius', '1094', 'e4 e5 Nf3 Nc6 Bc4 Nf6 Ng5 Qe7 O-O Nxe4 Nxe4 h6 Re1 Qh4 g3 Qd8 Nec3 Bc5 Kh1 O-O f4 d6 fxe5 dxe5 Rf1 Qd7 Nd5 b6 Qh5 Nd8 g4 Bb7 g5 Bxd5+ Bxd5 Qxd5+ Rf3 hxg5 Qxg5 Qxf3+ Qg2 Qd1+ Qf1', 'C57', 'Italian Game: Two Knights Defense |  Knight Attack', '7']\n",
      "['PmpkWkmm', 'FALSE', '1.50409E+12', '1.50409E+12', '52', 'resign', 'black', '15+15', 'shivangithegenius', '1094', 'sureka_akshat', '1141', 'e4 e5 Nf3 Nc6 Bc4 Nf6 Nc3 Bc5 O-O O-O Ne1 d6 d3 Ne8 Qf3 Nd4 Qg3 Bb4 Bh6 g6 Bxf8 Bxc3 Qe3 Kxf8 bxc3 Nc6 Qf3 Nf6 Rd1 Bg4 Qg3 Bxd1 h3 Be2 Nf3 Nh5 Qg4 Bxf1 Kxf1 Nf6 Ng5 Nxg4 Nxf7 Nh2+ Kg1 Qh4 Kxh2 Qxf2 Be6 Nd8 Nxd8 Rxd8', 'C50', 'Four Knights Game: Italian Variation', '8']\n",
      "['EwaK0IsE', 'FALSE', '1.50401E+12', '1.50401E+12', '66', 'mate', 'black', '15+16', 'sureka_akshat', '1141', 'shivangithegenius', '1094', 'e4 e5 Nf3 Nc6 Bc4 Nf6 Nc3 Bc5 O-O O-O Ne1 Ne8 Qf3 Qg5 d4 Qg6 dxc5 Nd4 Qd1 d6 g3 Bh3 Nf3 Bxf1 Qxf1 Nxf3+ Kg2 Nh4+ Kh1 Nf3 Nd5 Qe6 Nxc7 Qc8 Nxa8 Qxa8 cxd6 Nxd6 Be2 Nd4 Bd3 Qc8 c3 Ne6 Qe1 Nc4 Bxc4 Qxc4 b3 Qc6 Ba3 Rd8 Be7 Rd7 Ba3 Ng5 Qd2 Rxd2 Kg2 Qxe4+ Kf1 Qe2+ Kg2 Qxf2+ Kh1 Qxh2#', 'C50', 'Four Knights Game: Italian Variation', '8']\n",
      "['yrSDozT3', 'FALSE', '1.50401E+12', '1.50401E+12', '101', 'resign', 'black', '15+15', 'shivangithegenius', '1094', 'slam_ment', '1300', 'e4 e5 Nf3 d6 Bc4 Be6 d3 Bxc4 dxc4 c5 O-O h6 Nc3 Nf6 Nd5 Nxe4 Re1 Nf6 Nxf6+ Qxf6 Qd5 Nd7 Qxb7 Rb8 Qxa7 Be7 Bd2 Qf5 c3 Qc2 Rab1 O-O Rec1 Qd3 b4 Rfd8 bxc5 dxc5 Rxb8 Rxb8 Rd1 Rb1 Qa8+ Bf8 Qa4 Rxd1+ Qxd1 e4 Ne1 Qd6 h3 Qe5 a4 Bd6 f4 Qf5 Be3 Bxf4 Bxf4 Qxf4 Qxd7 Qe3+ Kh2 Qxe1 Qe8+ Kh7 Qxf7 e3 Qf5+ Kg8 Qd5+ Kh7 Qxc5 e2 Qf5+ Kg8 Qe6+ Kh7 Qe4+ Kg8 a5 Qd1 Qa8+ Kh7 Qe4+ Kg8 Qd5+ Qxd5 cxd5 e1=Q a6 Qa1 d6 Qxa6 d7 Qa8 c4 Qd8 c5 Qxd7 c6', 'C41', 'Philidor Defense #3', '5']\n",
      "['x31mXlvc', 'FALSE', '1.50376E+12', '1.50376E+12', '25', 'resign', 'white', '11+0', 'g-ios', '1500', 'shivangithegenius', '1094', 'd4 d5 h3 Nc6 Nf3 Nf6 Bg5 h6 Bxf6 exf6 e3 Bb4+ c3 Bd6 Bb5 Bd7 O-O a6 Ba4 b5 Bb3 Na5 Bxd5 Nc4 Bxa8', 'D00', \"Queen's Pawn Game\", '2']\n"
     ]
    }
   ],
   "source": [
    "idx = 0\n",
    "CUTOFF = 20\n",
    "myGame = None\n",
    "for line in ParseCsv('data/games.csv'):\n",
    "    idx += 1\n",
    "    if idx > CUTOFF: break\n",
    "    elif idx == CUTOFF: myGame = Game(line)\n",
    "    print(line)"
   ]
  },
  {
   "cell_type": "code",
   "execution_count": 38,
   "metadata": {},
   "outputs": [
    {
     "name": "stdout",
     "output_type": "stream",
     "text": [
      "Game x31mXlvc, rated False, turns 25, status resign, winner white\n"
     ]
    }
   ],
   "source": [
    "print(myGame)"
   ]
  },
  {
   "cell_type": "code",
   "execution_count": 39,
   "metadata": {},
   "outputs": [
    {
     "data": {
      "text/plain": [
       "20058"
      ]
     },
     "execution_count": 39,
     "metadata": {},
     "output_type": "execute_result"
    }
   ],
   "source": [
    "sum(1 for _ in ParseCsv('data/games.csv'))"
   ]
  },
  {
   "cell_type": "code",
   "execution_count": 40,
   "metadata": {},
   "outputs": [],
   "source": [
    "whiteUsers = set(l[8] for l in ParseCsv('data/games.csv'))"
   ]
  },
  {
   "cell_type": "code",
   "execution_count": 42,
   "metadata": {},
   "outputs": [],
   "source": [
    "blackUsers = set(l[10] for l in ParseCsv('data/games.csv'))"
   ]
  },
  {
   "cell_type": "code",
   "execution_count": 41,
   "metadata": {},
   "outputs": [
    {
     "data": {
      "text/plain": [
       "9438"
      ]
     },
     "execution_count": 41,
     "metadata": {},
     "output_type": "execute_result"
    }
   ],
   "source": [
    "len(whiteUsers)"
   ]
  },
  {
   "cell_type": "code",
   "execution_count": 43,
   "metadata": {},
   "outputs": [
    {
     "data": {
      "text/plain": [
       "9331"
      ]
     },
     "execution_count": 43,
     "metadata": {},
     "output_type": "execute_result"
    }
   ],
   "source": [
    "len(blackUsers)"
   ]
  },
  {
   "cell_type": "code",
   "execution_count": 46,
   "metadata": {},
   "outputs": [
    {
     "data": {
      "text/plain": [
       "15635"
      ]
     },
     "execution_count": 46,
     "metadata": {},
     "output_type": "execute_result"
    }
   ],
   "source": [
    "len(whiteUsers.union(blackUsers))"
   ]
  },
  {
   "cell_type": "markdown",
   "metadata": {},
   "source": [
    "### In the dataset there are 20,058 games with 15,635 unique players."
   ]
  },
  {
   "cell_type": "markdown",
   "metadata": {},
   "source": [
    "### 2. Identify a predictive task that can be studied on this dataset. Describe how you will evaluate your model at this predictive task, what relevant baselines can be used for comparison, and how you will assess the validity of your model’s predictions. It’s fine to use models that were described in class here (i.e., you don’t have to invent anything new (though you may!)), though you should explain and justify which model was appropriate for the task. It’s also important in this section to carefully describe what features you will use and how you had to process the data to obtain them."
   ]
  },
  {
   "cell_type": "code",
   "execution_count": null,
   "metadata": {},
   "outputs": [],
   "source": []
  },
  {
   "cell_type": "markdown",
   "metadata": {},
   "source": [
    "### 3. Describe your model. Explain and justify your decision to use the model you proposed. How will you optimize it? Did you run into any issues due to scalability, overfitting, etc.? What other models did you consider for comparison? What were your unsuccessful attempts along the way? What are the strengths and weaknesses of the different models being compared?"
   ]
  },
  {
   "cell_type": "code",
   "execution_count": null,
   "metadata": {},
   "outputs": [],
   "source": []
  },
  {
   "cell_type": "markdown",
   "metadata": {},
   "source": [
    "### 4. Describe literature related to the problem you are studying. If you are using an existing dataset, where did it come from and how was it used? What other similar datasets have been studied in the past and how? What are the state-of-the-art methods currently employed to study this type of data? Are the conclusions from existing work similar to or different from your own findings?"
   ]
  },
  {
   "cell_type": "code",
   "execution_count": null,
   "metadata": {},
   "outputs": [],
   "source": []
  },
  {
   "cell_type": "markdown",
   "metadata": {},
   "source": [
    "### 5. Describe your results and conclusions. How well does your model perform compared to alternatives, and what is the significance of the results? Which feature representations worked well and which do not? What is the interpretation of your model’s parameters? Why did the proposed model succeed why others failed (or if it failed, why did it fail)?"
   ]
  },
  {
   "cell_type": "code",
   "execution_count": null,
   "metadata": {},
   "outputs": [],
   "source": []
  }
 ],
 "metadata": {
  "kernelspec": {
   "display_name": "Python 3",
   "language": "python",
   "name": "python3"
  },
  "language_info": {
   "codemirror_mode": {
    "name": "ipython",
    "version": 3
   },
   "file_extension": ".py",
   "mimetype": "text/x-python",
   "name": "python",
   "nbconvert_exporter": "python",
   "pygments_lexer": "ipython3",
   "version": "3.6.8"
  }
 },
 "nbformat": 4,
 "nbformat_minor": 2
}
