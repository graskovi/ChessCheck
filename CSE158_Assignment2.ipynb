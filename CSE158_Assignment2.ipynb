{
 "cells": [
  {
   "cell_type": "markdown",
   "metadata": {},
   "source": [
    "# CSE 158: Assignment 2\n",
    "\n",
    "## This is an open-ended assignment in which you are expected to write a detailed report documenting your results. Please submit your solution electronically via gradescope, on or before Dec 3 (Tuesday week 10). This assignment is worth 25% of the final grade.\n",
    "\n",
    "## Specify the names of all of your group members when submitting. Submissions should be in the form of a written report, which is expected to be at least four pages (double column, 11pt), or roughly 2.5-3 thousand words, plus figures, tables, and equations. See an example template in the lecture slides to get an idea of the length expected."
   ]
  },
  {
   "cell_type": "markdown",
   "metadata": {},
   "source": [
    "## Tasks\n",
    "\n",
    "### 1. Identify a dataset to study, and perform an exploratory analysis of the data. Describe the dataset, including its basic statistics and properties, and report any interesting findings. This exploratory analysis should motivate the design of your model in the following sections. Datasets should be reasonably large (e.g. more than 50,000 samples)."
   ]
  },
  {
   "cell_type": "code",
   "execution_count": 1,
   "metadata": {},
   "outputs": [],
   "source": [
    "%matplotlib inline\n",
    "from matplotlib import pyplot as plt\n",
    "\n",
    "from collections import defaultdict, namedtuple\n",
    "import heapq\n",
    "\n",
    "import csv\n",
    "import numpy as np\n",
    "\n",
    "from sklearn import linear_model\n",
    "from sklearn import svm\n",
    "from sklearn.model_selection import train_test_split"
   ]
  },
  {
   "cell_type": "code",
   "execution_count": 2,
   "metadata": {},
   "outputs": [],
   "source": [
    "def IncrementToGame(inc : int):\n",
    "    if inc < 10: return 'BLITZ'\n",
    "    elif inc == 10: return 'RAPID'\n",
    "    else: return 'CLASSICAL'"
   ]
  },
  {
   "cell_type": "code",
   "execution_count": 3,
   "metadata": {},
   "outputs": [],
   "source": [
    "def MovesToNply(n : int, moves):\n",
    "    return ' '.join(moves.strip().split(' ')[:n])"
   ]
  },
  {
   "cell_type": "code",
   "execution_count": 72,
   "metadata": {},
   "outputs": [
    {
     "data": {
      "text/plain": [
       "'A3 B4 A3 C6 C7'"
      ]
     },
     "execution_count": 72,
     "metadata": {},
     "output_type": "execute_result"
    }
   ],
   "source": [
    "MovesToNply(100, \"A3 B4 A3 C6 C7\")"
   ]
  },
  {
   "cell_type": "code",
   "execution_count": 4,
   "metadata": {},
   "outputs": [],
   "source": [
    "class Game:\n",
    "    def __init__(self, line):\n",
    "        # Game ID\n",
    "        self.id = line[0]\n",
    "        \n",
    "        # Whether game was rated or not\n",
    "        self.rated = True if line[1] == 'TRUE' else False\n",
    "        \n",
    "        # Time of game creation and last move\n",
    "        self.created_at = float(line[2])\n",
    "        self.last_move_at = float(line[3])\n",
    "        \n",
    "        # Number of turns in game\n",
    "        self.turns = int(line[4])\n",
    "        \n",
    "        # Game result: 'outoftime resign mate draw'\n",
    "        self.victory_status = line[5]\n",
    "        \n",
    "        # Game winner: 'white black draw'\n",
    "        self.winner = line[6]\n",
    "        \n",
    "        # Time increment, describes game timing in time+increment form\n",
    "        self.increment_code = line[7]\n",
    "        \n",
    "        self.game_type = IncrementToGame(int(line[7].split('+')[0]))\n",
    "        \n",
    "        # ID and rating of white and black players\n",
    "        self.white_id = line[8]\n",
    "        self.white_rating = int(line[9])\n",
    "        self.black_id = line[10]\n",
    "        self.black_rating = int(line[11])\n",
    "        \n",
    "        # All game moves in standard chess notation\n",
    "        self.moves = line[12]\n",
    "        \n",
    "        # Standardised code for opening\n",
    "        self.opening_eco = line[13]\n",
    "        \n",
    "        # Opening name and number of moves in opening phase\n",
    "        self.opening_name = line[14]\n",
    "        self.opening_ply = int(line[15])\n",
    "    \n",
    "    def __repr__(self):\n",
    "        return 'Game {}, rated {}, turns {}, status {}, winner {}, type {}'.format(self.id, self.rated,\n",
    "                                                                                   self.turns, self.victory_status,\n",
    "                                                                                   self.winner, self.game_type)"
   ]
  },
  {
   "cell_type": "code",
   "execution_count": 211,
   "metadata": {},
   "outputs": [],
   "source": [
    "game_lens = [int(g.increment_code.split('+')[0]) for g in games]"
   ]
  },
  {
   "cell_type": "code",
   "execution_count": 231,
   "metadata": {},
   "outputs": [
    {
     "data": {
      "text/plain": [
       "{'mate', 'outoftime', 'resign'}"
      ]
     },
     "execution_count": 231,
     "metadata": {},
     "output_type": "execute_result"
    }
   ],
   "source": [
    "set(g.victory_status for g in games)"
   ]
  },
  {
   "cell_type": "code",
   "execution_count": 216,
   "metadata": {},
   "outputs": [
    {
     "data": {
      "text/plain": [
       "3895"
      ]
     },
     "execution_count": 216,
     "metadata": {},
     "output_type": "execute_result"
    }
   ],
   "source": [
    "sum(1 for g in games if int(g.increment_code.split('+')[0]) < 10)"
   ]
  },
  {
   "cell_type": "code",
   "execution_count": 213,
   "metadata": {},
   "outputs": [
    {
     "data": {
      "text/plain": [
       "(array([   30.,    54.,    57.,    65.,  1718.,   171.,   631.,   873.,\n",
       "          253.,  9045.,    96.,   214.,    73.,    68.,  3212.,    43.,\n",
       "           39.,    26.,   907.]),\n",
       " array([ 1,  2,  3,  4,  5,  6,  7,  8,  9, 10, 11, 12, 13, 14, 15, 16, 17,\n",
       "        18, 19, 20]),\n",
       " <a list of 19 Patch objects>)"
      ]
     },
     "execution_count": 213,
     "metadata": {},
     "output_type": "execute_result"
    },
    {
     "data": {
      "image/png": "[encoded data removed]",
      "text/plain": [
       "<matplotlib.figure.Figure at 0x1157ab9b0>"
      ]
     },
     "metadata": {},
     "output_type": "display_data"
    }
   ],
   "source": [
    "plt.hist(game_lens, bins=range(1,21))"
   ]
  },
  {
   "cell_type": "code",
   "execution_count": 6,
   "metadata": {},
   "outputs": [],
   "source": [
    "def ParseCsv(filepath : str):\n",
    "    with open(filepath) as csv_file:\n",
    "        csv_reader = csv.reader(csv_file, delimiter=',')\n",
    "        next(csv_reader, None)\n",
    "        for row in csv_reader:\n",
    "            yield row"
   ]
  },
  {
   "cell_type": "code",
   "execution_count": 7,
   "metadata": {},
   "outputs": [],
   "source": [
    "games = [Game(line) for line in ParseCsv('data/games.csv')]\n",
    "games = [g for g in games if g.winner != 'draw']"
   ]
  },
  {
   "cell_type": "code",
   "execution_count": 51,
   "metadata": {},
   "outputs": [],
   "source": [
    "openings = set(g.opening_eco for g in games)"
   ]
  },
  {
   "cell_type": "code",
   "execution_count": 52,
   "metadata": {},
   "outputs": [
    {
     "data": {
      "text/plain": [
       "365"
      ]
     },
     "execution_count": 52,
     "metadata": {},
     "output_type": "execute_result"
    }
   ],
   "source": [
    "len(openings)"
   ]
  },
  {
   "cell_type": "code",
   "execution_count": 8,
   "metadata": {},
   "outputs": [],
   "source": [
    "uniqGames = set(g.id for g in games)"
   ]
  },
  {
   "cell_type": "code",
   "execution_count": 55,
   "metadata": {},
   "outputs": [
    {
     "data": {
      "text/plain": [
       "'d4 d5 c4 c6 cxd5 e6 dxe6 fxe6 Nf3 Bb4+ Nc3 Ba5 Bf4'"
      ]
     },
     "execution_count": 55,
     "metadata": {},
     "output_type": "execute_result"
    }
   ],
   "source": [
    "games[0].moves"
   ]
  },
  {
   "cell_type": "code",
   "execution_count": 56,
   "metadata": {},
   "outputs": [],
   "source": [
    "plys = [g.opening_ply for g in games]"
   ]
  },
  {
   "cell_type": "code",
   "execution_count": 75,
   "metadata": {},
   "outputs": [
    {
     "data": {
      "text/plain": [
       "(array([    0.,  1097.,  2935.,  3490.,  3308.,  2730.,  2020.,  2460.]),\n",
       " array([0, 1, 2, 3, 4, 5, 6, 7, 8]),\n",
       " <a list of 8 Patch objects>)"
      ]
     },
     "execution_count": 75,
     "metadata": {},
     "output_type": "execute_result"
    },
    {
     "data": {
      "image/png": "[encoded data removed]",
      "text/plain": [
       "<matplotlib.figure.Figure at 0x11f8337f0>"
      ]
     },
     "metadata": {},
     "output_type": "display_data"
    }
   ],
   "source": [
    "plt.hist(plys, bins=[0,1,2,3,4,5,6,7,8])"
   ]
  },
  {
   "cell_type": "code",
   "execution_count": 76,
   "metadata": {},
   "outputs": [],
   "source": [
    "singlePlys = set(MovesToNply(1, g.moves) for g in games)"
   ]
  },
  {
   "cell_type": "code",
   "execution_count": 78,
   "metadata": {},
   "outputs": [],
   "source": [
    "doublePlys = set(MovesToNply(2, g.moves) for g in games)"
   ]
  },
  {
   "cell_type": "code",
   "execution_count": 80,
   "metadata": {},
   "outputs": [],
   "source": [
    "plyLens = [len(set(MovesToNply(i, g.moves) for g in games)) for i in range(1,6)]"
   ]
  },
  {
   "cell_type": "code",
   "execution_count": 81,
   "metadata": {},
   "outputs": [
    {
     "data": {
      "text/plain": [
       "[20, 220, 1141, 2970, 5352]"
      ]
     },
     "execution_count": 81,
     "metadata": {},
     "output_type": "execute_result"
    }
   ],
   "source": [
    "plyLens"
   ]
  },
  {
   "cell_type": "code",
   "execution_count": 85,
   "metadata": {},
   "outputs": [
    {
     "data": {
      "text/plain": [
       "[<matplotlib.lines.Line2D at 0x11f81b7b8>]"
      ]
     },
     "execution_count": 85,
     "metadata": {},
     "output_type": "execute_result"
    },
    {
     "data": {
      "image/png": "[encoded data removed]",
      "text/plain": [
       "<matplotlib.figure.Figure at 0x108047400>"
      ]
     },
     "metadata": {},
     "output_type": "display_data"
    }
   ],
   "source": [
    "plt.plot(plyLens)"
   ]
  },
  {
   "cell_type": "code",
   "execution_count": 86,
   "metadata": {},
   "outputs": [
    {
     "data": {
      "text/plain": [
       "{'Na3 Nf6',\n",
       " 'Na3 e5',\n",
       " 'Nc3 Nc6',\n",
       " 'Nc3 Nf6',\n",
       " 'Nc3 Nh6',\n",
       " 'Nc3 a6',\n",
       " 'Nc3 b6',\n",
       " 'Nc3 c5',\n",
       " 'Nc3 c6',\n",
       " 'Nc3 d5',\n",
       " 'Nc3 d6',\n",
       " 'Nc3 e5',\n",
       " 'Nc3 e6',\n",
       " 'Nc3 f5',\n",
       " 'Nc3 g6',\n",
       " 'Nf3',\n",
       " 'Nf3 Na6',\n",
       " 'Nf3 Nc6',\n",
       " 'Nf3 Nf6',\n",
       " 'Nf3 b5',\n",
       " 'Nf3 b6',\n",
       " 'Nf3 c5',\n",
       " 'Nf3 c6',\n",
       " 'Nf3 d5',\n",
       " 'Nf3 d6',\n",
       " 'Nf3 e5',\n",
       " 'Nf3 e6',\n",
       " 'Nf3 f5',\n",
       " 'Nf3 f6',\n",
       " 'Nf3 g6',\n",
       " 'Nf3 h6',\n",
       " 'Nh3 Na6',\n",
       " 'Nh3 Nf6',\n",
       " 'Nh3 d5',\n",
       " 'Nh3 e5',\n",
       " 'Nh3 e6',\n",
       " 'a3 Nc6',\n",
       " 'a3 b6',\n",
       " 'a3 c6',\n",
       " 'a3 d5',\n",
       " 'a3 e5',\n",
       " 'a3 g6',\n",
       " 'a4 Nc6',\n",
       " 'a4 Nf6',\n",
       " 'a4 a5',\n",
       " 'a4 a6',\n",
       " 'a4 c5',\n",
       " 'a4 d5',\n",
       " 'a4 e5',\n",
       " 'a4 e6',\n",
       " 'a4 g5',\n",
       " 'a4 g6',\n",
       " 'b3 Nc6',\n",
       " 'b3 Nf6',\n",
       " 'b3 Nh6',\n",
       " 'b3 a5',\n",
       " 'b3 b6',\n",
       " 'b3 c5',\n",
       " 'b3 d5',\n",
       " 'b3 d6',\n",
       " 'b3 e5',\n",
       " 'b3 e6',\n",
       " 'b3 f5',\n",
       " 'b3 f6',\n",
       " 'b3 g6',\n",
       " 'b4 Nc6',\n",
       " 'b4 Nf6',\n",
       " 'b4 a5',\n",
       " 'b4 b5',\n",
       " 'b4 b6',\n",
       " 'b4 c5',\n",
       " 'b4 c6',\n",
       " 'b4 d5',\n",
       " 'b4 d6',\n",
       " 'b4 e5',\n",
       " 'b4 e6',\n",
       " 'b4 f5',\n",
       " 'b4 f6',\n",
       " 'b4 g6',\n",
       " 'c3 Nf6',\n",
       " 'c3 c5',\n",
       " 'c3 d5',\n",
       " 'c3 d6',\n",
       " 'c3 e5',\n",
       " 'c3 e6',\n",
       " 'c3 g6',\n",
       " 'c4 Nc6',\n",
       " 'c4 Nf6',\n",
       " 'c4 a5',\n",
       " 'c4 a6',\n",
       " 'c4 b5',\n",
       " 'c4 b6',\n",
       " 'c4 c5',\n",
       " 'c4 c6',\n",
       " 'c4 d5',\n",
       " 'c4 d6',\n",
       " 'c4 e5',\n",
       " 'c4 e6',\n",
       " 'c4 f5',\n",
       " 'c4 g5',\n",
       " 'c4 g6',\n",
       " 'd3',\n",
       " 'd3 Nc6',\n",
       " 'd3 Nf6',\n",
       " 'd3 a5',\n",
       " 'd3 c5',\n",
       " 'd3 c6',\n",
       " 'd3 d5',\n",
       " 'd3 d6',\n",
       " 'd3 e5',\n",
       " 'd3 e6',\n",
       " 'd3 f5',\n",
       " 'd3 f6',\n",
       " 'd3 g5',\n",
       " 'd3 g6',\n",
       " 'd4',\n",
       " 'd4 Na6',\n",
       " 'd4 Nc6',\n",
       " 'd4 Nf6',\n",
       " 'd4 Nh6',\n",
       " 'd4 a5',\n",
       " 'd4 a6',\n",
       " 'd4 b5',\n",
       " 'd4 b6',\n",
       " 'd4 c5',\n",
       " 'd4 c6',\n",
       " 'd4 d5',\n",
       " 'd4 d6',\n",
       " 'd4 e5',\n",
       " 'd4 e6',\n",
       " 'd4 f5',\n",
       " 'd4 f6',\n",
       " 'd4 g5',\n",
       " 'd4 g6',\n",
       " 'd4 h5',\n",
       " 'd4 h6',\n",
       " 'e3 Nc6',\n",
       " 'e3 Nf6',\n",
       " 'e3 b6',\n",
       " 'e3 c5',\n",
       " 'e3 c6',\n",
       " 'e3 d5',\n",
       " 'e3 d6',\n",
       " 'e3 e5',\n",
       " 'e3 e6',\n",
       " 'e3 f5',\n",
       " 'e3 g5',\n",
       " 'e3 g6',\n",
       " 'e3 h5',\n",
       " 'e4',\n",
       " 'e4 Na6',\n",
       " 'e4 Nc6',\n",
       " 'e4 Nf6',\n",
       " 'e4 Nh6',\n",
       " 'e4 a5',\n",
       " 'e4 a6',\n",
       " 'e4 b5',\n",
       " 'e4 b6',\n",
       " 'e4 c5',\n",
       " 'e4 c6',\n",
       " 'e4 d5',\n",
       " 'e4 d6',\n",
       " 'e4 e5',\n",
       " 'e4 e6',\n",
       " 'e4 f5',\n",
       " 'e4 f6',\n",
       " 'e4 g5',\n",
       " 'e4 g6',\n",
       " 'e4 h5',\n",
       " 'e4 h6',\n",
       " 'f3 c5',\n",
       " 'f3 c6',\n",
       " 'f3 d5',\n",
       " 'f3 e5',\n",
       " 'f3 e6',\n",
       " 'f4 Nc6',\n",
       " 'f4 Nf6',\n",
       " 'f4 b6',\n",
       " 'f4 c5',\n",
       " 'f4 c6',\n",
       " 'f4 d5',\n",
       " 'f4 d6',\n",
       " 'f4 e5',\n",
       " 'f4 e6',\n",
       " 'f4 f5',\n",
       " 'f4 f6',\n",
       " 'f4 g6',\n",
       " 'g3',\n",
       " 'g3 Nc6',\n",
       " 'g3 Nf6',\n",
       " 'g3 Nh6',\n",
       " 'g3 b6',\n",
       " 'g3 c5',\n",
       " 'g3 c6',\n",
       " 'g3 d5',\n",
       " 'g3 d6',\n",
       " 'g3 e5',\n",
       " 'g3 e6',\n",
       " 'g3 g6',\n",
       " 'g3 h6',\n",
       " 'g4 Nf6',\n",
       " 'g4 a5',\n",
       " 'g4 c5',\n",
       " 'g4 c6',\n",
       " 'g4 d5',\n",
       " 'g4 e5',\n",
       " 'g4 e6',\n",
       " 'g4 g6',\n",
       " 'g4 h6',\n",
       " 'h3 b6',\n",
       " 'h3 c5',\n",
       " 'h3 d5',\n",
       " 'h3 e5',\n",
       " 'h4 Nc6',\n",
       " 'h4 Nf6',\n",
       " 'h4 c5',\n",
       " 'h4 d5',\n",
       " 'h4 d6',\n",
       " 'h4 e5',\n",
       " 'h4 e6'}"
      ]
     },
     "execution_count": 86,
     "metadata": {},
     "output_type": "execute_result"
    }
   ],
   "source": [
    "doublePlys"
   ]
  },
  {
   "cell_type": "code",
   "execution_count": 89,
   "metadata": {},
   "outputs": [],
   "source": [
    "plysIdx = {t[1]:t[0] for t in enumerate(doublePlys)}"
   ]
  },
  {
   "cell_type": "code",
   "execution_count": 90,
   "metadata": {},
   "outputs": [
    {
     "data": {
      "text/plain": [
       "{'Na3 Nf6': 147,\n",
       " 'Na3 e5': 14,\n",
       " 'Nc3 Nc6': 97,\n",
       " 'Nc3 Nf6': 157,\n",
       " 'Nc3 Nh6': 129,\n",
       " 'Nc3 a6': 15,\n",
       " 'Nc3 b6': 46,\n",
       " 'Nc3 c5': 62,\n",
       " 'Nc3 c6': 216,\n",
       " 'Nc3 d5': 160,\n",
       " 'Nc3 d6': 0,\n",
       " 'Nc3 e5': 69,\n",
       " 'Nc3 e6': 141,\n",
       " 'Nc3 f5': 174,\n",
       " 'Nc3 g6': 169,\n",
       " 'Nf3': 88,\n",
       " 'Nf3 Na6': 166,\n",
       " 'Nf3 Nc6': 109,\n",
       " 'Nf3 Nf6': 188,\n",
       " 'Nf3 b5': 110,\n",
       " 'Nf3 b6': 198,\n",
       " 'Nf3 c5': 182,\n",
       " 'Nf3 c6': 165,\n",
       " 'Nf3 d5': 176,\n",
       " 'Nf3 d6': 1,\n",
       " 'Nf3 e5': 132,\n",
       " 'Nf3 e6': 161,\n",
       " 'Nf3 f5': 71,\n",
       " 'Nf3 f6': 219,\n",
       " 'Nf3 g6': 212,\n",
       " 'Nf3 h6': 159,\n",
       " 'Nh3 Na6': 112,\n",
       " 'Nh3 Nf6': 94,\n",
       " 'Nh3 d5': 63,\n",
       " 'Nh3 e5': 50,\n",
       " 'Nh3 e6': 149,\n",
       " 'a3 Nc6': 51,\n",
       " 'a3 b6': 61,\n",
       " 'a3 c6': 196,\n",
       " 'a3 d5': 70,\n",
       " 'a3 e5': 44,\n",
       " 'a3 g6': 78,\n",
       " 'a4 Nc6': 102,\n",
       " 'a4 Nf6': 12,\n",
       " 'a4 a5': 124,\n",
       " 'a4 a6': 39,\n",
       " 'a4 c5': 134,\n",
       " 'a4 d5': 36,\n",
       " 'a4 e5': 74,\n",
       " 'a4 e6': 17,\n",
       " 'a4 g5': 77,\n",
       " 'a4 g6': 215,\n",
       " 'b3 Nc6': 66,\n",
       " 'b3 Nf6': 218,\n",
       " 'b3 Nh6': 3,\n",
       " 'b3 a5': 48,\n",
       " 'b3 b6': 101,\n",
       " 'b3 c5': 82,\n",
       " 'b3 d5': 72,\n",
       " 'b3 d6': 158,\n",
       " 'b3 e5': 154,\n",
       " 'b3 e6': 59,\n",
       " 'b3 f5': 2,\n",
       " 'b3 f6': 206,\n",
       " 'b3 g6': 136,\n",
       " 'b4 Nc6': 125,\n",
       " 'b4 Nf6': 119,\n",
       " 'b4 a5': 142,\n",
       " 'b4 b5': 193,\n",
       " 'b4 b6': 114,\n",
       " 'b4 c5': 201,\n",
       " 'b4 c6': 87,\n",
       " 'b4 d5': 21,\n",
       " 'b4 d6': 19,\n",
       " 'b4 e5': 162,\n",
       " 'b4 e6': 105,\n",
       " 'b4 f5': 42,\n",
       " 'b4 f6': 81,\n",
       " 'b4 g6': 93,\n",
       " 'c3 Nf6': 195,\n",
       " 'c3 c5': 199,\n",
       " 'c3 d5': 187,\n",
       " 'c3 d6': 200,\n",
       " 'c3 e5': 209,\n",
       " 'c3 e6': 49,\n",
       " 'c3 g6': 92,\n",
       " 'c4 Nc6': 190,\n",
       " 'c4 Nf6': 75,\n",
       " 'c4 a5': 104,\n",
       " 'c4 a6': 214,\n",
       " 'c4 b5': 79,\n",
       " 'c4 b6': 139,\n",
       " 'c4 c5': 98,\n",
       " 'c4 c6': 40,\n",
       " 'c4 d5': 32,\n",
       " 'c4 d6': 168,\n",
       " 'c4 e5': 67,\n",
       " 'c4 e6': 68,\n",
       " 'c4 f5': 181,\n",
       " 'c4 g5': 184,\n",
       " 'c4 g6': 127,\n",
       " 'd3': 118,\n",
       " 'd3 Nc6': 9,\n",
       " 'd3 Nf6': 5,\n",
       " 'd3 a5': 26,\n",
       " 'd3 c5': 148,\n",
       " 'd3 c6': 89,\n",
       " 'd3 d5': 156,\n",
       " 'd3 d6': 99,\n",
       " 'd3 e5': 189,\n",
       " 'd3 e6': 210,\n",
       " 'd3 f5': 133,\n",
       " 'd3 f6': 179,\n",
       " 'd3 g5': 167,\n",
       " 'd3 g6': 183,\n",
       " 'd4': 90,\n",
       " 'd4 Na6': 137,\n",
       " 'd4 Nc6': 31,\n",
       " 'd4 Nf6': 113,\n",
       " 'd4 Nh6': 23,\n",
       " 'd4 a5': 205,\n",
       " 'd4 a6': 116,\n",
       " 'd4 b5': 25,\n",
       " 'd4 b6': 18,\n",
       " 'd4 c5': 95,\n",
       " 'd4 c6': 84,\n",
       " 'd4 d5': 54,\n",
       " 'd4 d6': 126,\n",
       " 'd4 e5': 130,\n",
       " 'd4 e6': 34,\n",
       " 'd4 f5': 175,\n",
       " 'd4 f6': 45,\n",
       " 'd4 g5': 41,\n",
       " 'd4 g6': 80,\n",
       " 'd4 h5': 146,\n",
       " 'd4 h6': 6,\n",
       " 'e3 Nc6': 170,\n",
       " 'e3 Nf6': 35,\n",
       " 'e3 b6': 28,\n",
       " 'e3 c5': 65,\n",
       " 'e3 c6': 213,\n",
       " 'e3 d5': 83,\n",
       " 'e3 d6': 4,\n",
       " 'e3 e5': 131,\n",
       " 'e3 e6': 8,\n",
       " 'e3 f5': 185,\n",
       " 'e3 g5': 29,\n",
       " 'e3 g6': 172,\n",
       " 'e3 h5': 202,\n",
       " 'e4': 186,\n",
       " 'e4 Na6': 128,\n",
       " 'e4 Nc6': 55,\n",
       " 'e4 Nf6': 153,\n",
       " 'e4 Nh6': 22,\n",
       " 'e4 a5': 177,\n",
       " 'e4 a6': 27,\n",
       " 'e4 b5': 11,\n",
       " 'e4 b6': 140,\n",
       " 'e4 c5': 52,\n",
       " 'e4 c6': 13,\n",
       " 'e4 d5': 120,\n",
       " 'e4 d6': 86,\n",
       " 'e4 e5': 143,\n",
       " 'e4 e6': 107,\n",
       " 'e4 f5': 171,\n",
       " 'e4 f6': 135,\n",
       " 'e4 g5': 38,\n",
       " 'e4 g6': 155,\n",
       " 'e4 h5': 57,\n",
       " 'e4 h6': 197,\n",
       " 'f3 c5': 43,\n",
       " 'f3 c6': 178,\n",
       " 'f3 d5': 150,\n",
       " 'f3 e5': 56,\n",
       " 'f3 e6': 117,\n",
       " 'f4 Nc6': 7,\n",
       " 'f4 Nf6': 204,\n",
       " 'f4 b6': 192,\n",
       " 'f4 c5': 164,\n",
       " 'f4 c6': 106,\n",
       " 'f4 d5': 208,\n",
       " 'f4 d6': 191,\n",
       " 'f4 e5': 53,\n",
       " 'f4 e6': 121,\n",
       " 'f4 f5': 100,\n",
       " 'f4 f6': 37,\n",
       " 'f4 g6': 111,\n",
       " 'g3': 108,\n",
       " 'g3 Nc6': 64,\n",
       " 'g3 Nf6': 73,\n",
       " 'g3 Nh6': 180,\n",
       " 'g3 b6': 33,\n",
       " 'g3 c5': 96,\n",
       " 'g3 c6': 151,\n",
       " 'g3 d5': 207,\n",
       " 'g3 d6': 173,\n",
       " 'g3 e5': 163,\n",
       " 'g3 e6': 47,\n",
       " 'g3 g6': 138,\n",
       " 'g3 h6': 103,\n",
       " 'g4 Nf6': 145,\n",
       " 'g4 a5': 10,\n",
       " 'g4 c5': 211,\n",
       " 'g4 c6': 144,\n",
       " 'g4 d5': 194,\n",
       " 'g4 e5': 152,\n",
       " 'g4 e6': 20,\n",
       " 'g4 g6': 122,\n",
       " 'g4 h6': 91,\n",
       " 'h3 b6': 60,\n",
       " 'h3 c5': 123,\n",
       " 'h3 d5': 24,\n",
       " 'h3 e5': 16,\n",
       " 'h4 Nc6': 30,\n",
       " 'h4 Nf6': 217,\n",
       " 'h4 c5': 58,\n",
       " 'h4 d5': 76,\n",
       " 'h4 d6': 115,\n",
       " 'h4 e5': 85,\n",
       " 'h4 e6': 203}"
      ]
     },
     "execution_count": 90,
     "metadata": {},
     "output_type": "execute_result"
    }
   ],
   "source": [
    "plysIdx"
   ]
  },
  {
   "cell_type": "code",
   "execution_count": 91,
   "metadata": {},
   "outputs": [],
   "source": [
    "doublePlyCounts = np.zeros(len(plysIdx))\n",
    "for g in games:\n",
    "    doublePlyCounts[plysIdx[MovesToNply(2, g.moves)]] += 1"
   ]
  },
  {
   "cell_type": "code",
   "execution_count": 93,
   "metadata": {},
   "outputs": [
    {
     "data": {
      "text/plain": [
       "[<matplotlib.lines.Line2D at 0x108e7d630>]"
      ]
     },
     "execution_count": 93,
     "metadata": {},
     "output_type": "execute_result"
    },
    {
     "data": {
      "image/png": "[encoded data removed]",
      "text/plain": [
       "<matplotlib.figure.Figure at 0x108f3cfd0>"
      ]
     },
     "metadata": {},
     "output_type": "display_data"
    }
   ],
   "source": [
    "plt.plot(doublePlyCounts)"
   ]
  },
  {
   "cell_type": "code",
   "execution_count": 94,
   "metadata": {},
   "outputs": [
    {
     "data": {
      "text/plain": [
       "143"
      ]
     },
     "execution_count": 94,
     "metadata": {},
     "output_type": "execute_result"
    }
   ],
   "source": [
    "np.argmax(doublePlyCounts)"
   ]
  },
  {
   "cell_type": "code",
   "execution_count": 97,
   "metadata": {},
   "outputs": [
    {
     "data": {
      "text/plain": [
       "[(143, 6029.0), (52, 2581.0), (54, 2185.0), (107, 1351.0), (113, 1138.0)]"
      ]
     },
     "execution_count": 97,
     "metadata": {},
     "output_type": "execute_result"
    }
   ],
   "source": [
    "heapq.nlargest(5, enumerate(doublePlyCounts), key=lambda x: x[1])"
   ]
  },
  {
   "cell_type": "code",
   "execution_count": 103,
   "metadata": {},
   "outputs": [],
   "source": [
    "def IdxToMoves(ind: int):\n",
    "    for moves in plysIdx:\n",
    "        if plysIdx[moves] == ind:\n",
    "            return moves"
   ]
  },
  {
   "cell_type": "code",
   "execution_count": 104,
   "metadata": {},
   "outputs": [
    {
     "data": {
      "text/plain": [
       "'e4 e5'"
      ]
     },
     "execution_count": 104,
     "metadata": {},
     "output_type": "execute_result"
    }
   ],
   "source": [
    "IdxToMoves(143)"
   ]
  },
  {
   "cell_type": "code",
   "execution_count": 40,
   "metadata": {},
   "outputs": [
    {
     "name": "stdout",
     "output_type": "stream",
     "text": [
      "Game XRuQPSzH, rated False, turns 50, status resign, winner black, time 1503580000000.0\n",
      "Game x1Svcl0P, rated False, turns 59, status mate, winner white, time 1499820000000.0\n",
      "Game wgIHzqDo, rated False, turns 113, status mate, winner white, time 1499710000000.0\n",
      "Game JrFxlGZo, rated False, turns 78, status mate, winner black, time 1489330000000.0\n",
      "Game ezKACesj, rated False, turns 51, status mate, winner white, time 1488840000000.0\n",
      "Game UVUUmRSQ, rated False, turns 56, status mate, winner black, time 1488730000000.0\n",
      "Game de8kkad4, rated False, turns 2, status resign, winner white, time 1489010000000.0\n",
      "Game yvqpdUQE, rated False, turns 26, status mate, winner black, time 1489010000000.0\n",
      "Game dQCCZY4f, rated False, turns 12, status resign, winner white, time 1489010000000.0\n",
      "Game 8zGwL053, rated False, turns 14, status resign, winner black, time 1489010000000.0\n",
      "Game 2QYrX7bz, rated False, turns 73, status mate, winner white, time 1489010000000.0\n",
      "Game QGXLgc6L, rated False, turns 3, status resign, winner white, time 1489010000000.0\n",
      "Game J62F4oVs, rated False, turns 6, status resign, winner black, time 1489010000000.0\n",
      "Game M1zbHN7r, rated False, turns 26, status draw, winner draw, time 1489000000000.0\n",
      "Game i4dYtT5Z, rated False, turns 3, status resign, winner black, time 1489000000000.0\n",
      "Game vwkSIpZ0, rated False, turns 75, status mate, winner white, time 1474470000000.0\n",
      "Game RhLRiClg, rated False, turns 11, status draw, winner draw, time 1456110000000.0\n",
      "Game cr5iuIrQ, rated False, turns 3, status outoftime, winner white, time 1425385753435.0\n",
      "Game HvrORfUp, rated False, turns 102, status draw, winner draw, time 1415628219636.0\n",
      "Game Iuo32IUI, rated False, turns 41, status mate, winner white, time 1504040173018.0\n",
      "Game 6tjettIT, rated False, turns 58, status outoftime, winner black, time 1446190003174.0\n",
      "Game glk9SiIG, rated False, turns 68, status resign, winner black, time 1446189099956.0\n",
      "Game hrnqkGeJ, rated False, turns 54, status mate, winner black, time 1446171971082.0\n",
      "Game 3CB6Onyb, rated False, turns 113, status mate, winner white, time 1446092573888.0\n",
      "Game lKTxTrKz, rated False, turns 149, status resign, winner white, time 1446091123856.0\n",
      "Game KcmaRSxt, rated False, turns 64, status mate, winner black, time 1446085833220.0\n",
      "Game 6aDFIWBG, rated False, turns 59, status resign, winner white, time 1446085243786.0\n",
      "Game JwFWnETl, rated False, turns 74, status resign, winner black, time 1446007428829.0\n",
      "Game 8dRrl55X, rated False, turns 47, status resign, winner white, time 1446006645701.0\n",
      "Game wFstU6H4, rated False, turns 117, status mate, winner white, time 1396509969989.0\n",
      "Game MBiEb6b1, rated False, turns 30, status outoftime, winner black, time 1396500409815.0\n",
      "Game I68gWMT3, rated False, turns 59, status outoftime, winner white, time 1396496413505.0\n",
      "Game jEV6APzw, rated False, turns 117, status resign, winner white, time 1396407373435.0\n",
      "Game myf3zxVd, rated False, turns 31, status resign, winner white, time 1396371597375.0\n",
      "Game qtO43RJL, rated False, turns 55, status resign, winner white, time 1396331961005.0\n",
      "Game zI4GBeD7, rated False, turns 67, status resign, winner white, time 1396329552248.0\n",
      "Game KEywC6kR, rated False, turns 82, status resign, winner black, time 1396320535572.0\n",
      "Game dcGMkHUE, rated False, turns 144, status draw, winner draw, time 1396283689061.0\n",
      "Game uc2tMYfY, rated False, turns 53, status resign, winner white, time 1396282955122.0\n",
      "Game bx2fK6DQ, rated False, turns 52, status resign, winner white, time 1396282553213.0\n",
      "Game fPjHFTNL, rated False, turns 138, status draw, winner draw, time 1396279054901.0\n",
      "Game TAJtb4qg, rated False, turns 46, status resign, winner black, time 1396274823336.0\n",
      "Game pzqKLpeT, rated False, turns 85, status resign, winner black, time 1396271924303.0\n",
      "Game UUqJfPGz, rated False, turns 43, status resign, winner white, time 1397928486436.0\n",
      "Game WKCIzgls, rated False, turns 85, status resign, winner black, time 1397926943741.0\n",
      "Game 3tX9qTuT, rated False, turns 49, status resign, winner white, time 1397627552433.0\n",
      "Game We79CGAj, rated False, turns 91, status mate, winner white, time 1397564077721.0\n",
      "Game SitO3W0e, rated False, turns 69, status mate, winner white, time 1397542642310.0\n",
      "Game M0yXzeAG, rated False, turns 87, status resign, winner black, time 1397539143283.0\n",
      "Game FaBFS4A6, rated False, turns 114, status resign, winner black, time 1397499343358.0\n",
      "Game BceRT6ia, rated False, turns 56, status resign, winner black, time 1397496987925.0\n",
      "Game FWZXrmbd, rated False, turns 34, status mate, winner black, time 1397496556064.0\n",
      "Game Kos4NQdt, rated False, turns 49, status mate, winner white, time 1397495818298.0\n",
      "Game 45JKnaVt, rated False, turns 59, status resign, winner white, time 1397475887463.0\n",
      "Game gjjlb3Wr, rated False, turns 86, status resign, winner white, time 1397466904030.0\n",
      "Game QzdedoG5, rated False, turns 85, status resign, winner white, time 1397460965899.0\n",
      "Game Zj6afVMU, rated False, turns 70, status mate, winner black, time 1397457519988.0\n",
      "Game kq9JANOG, rated False, turns 38, status mate, winner black, time 1397385402357.0\n",
      "Game jmgEVnjI, rated False, turns 46, status resign, winner black, time 1397383957113.0\n",
      "Game TQmPPbZY, rated False, turns 51, status resign, winner white, time 1397291792573.0\n",
      "Game TUD9thFU, rated False, turns 74, status resign, winner black, time 1397284218202.0\n",
      "Game vU2xAawx, rated False, turns 113, status resign, winner white, time 1397218310871.0\n",
      "Game K1R0h6S7, rated False, turns 13, status outoftime, winner white, time 1397141947097.0\n",
      "Game p1VK0VtA, rated False, turns 46, status mate, winner black, time 1397141373926.0\n",
      "Game 4ogE3IlW, rated False, turns 29, status resign, winner black, time 1397140956015.0\n",
      "Game iOFAKFSf, rated False, turns 59, status resign, winner white, time 1397062047698.0\n",
      "Game vwXtmN4q, rated False, turns 79, status resign, winner white, time 1397060228534.0\n",
      "Game CyfHdIci, rated False, turns 78, status mate, winner black, time 1397058940576.0\n",
      "Game tYvi7FNG, rated False, turns 36, status mate, winner black, time 1397058463148.0\n",
      "Game Kclpqrwl, rated False, turns 39, status resign, winner black, time 1396778184927.0\n",
      "Game 90tZY629, rated False, turns 79, status resign, winner white, time 1396768308083.0\n",
      "Game 7pRm0JTW, rated False, turns 73, status resign, winner white, time 1396766759523.0\n",
      "Game gMlM25Jr, rated False, turns 34, status resign, winner black, time 1396765787578.0\n",
      "Game bQ9duviD, rated False, turns 66, status resign, winner black, time 1396764139412.0\n",
      "Game l9zWUOip, rated False, turns 22, status mate, winner black, time 1396676858755.0\n",
      "Game w3ej43dD, rated False, turns 39, status resign, winner white, time 1396618098812.0\n",
      "Game RRNRhKjM, rated False, turns 25, status resign, winner white, time 1396617820276.0\n",
      "Game WRCq0dJs, rated False, turns 51, status resign, winner white, time 1396617333940.0\n",
      "Game zQKoX8kb, rated False, turns 95, status resign, winner white, time 1396531649293.0\n",
      "Game 3YW2jdCY, rated False, turns 45, status resign, winner white, time 1396530508186.0\n",
      "Game I81GWfOf, rated False, turns 102, status resign, winner black, time 1396440902424.0\n",
      "Game hvFyJb0x, rated False, turns 35, status mate, winner white, time 1396440523277.0\n",
      "Game eFNI4mt5, rated False, turns 33, status resign, winner white, time 1396276403192.0\n",
      "Game arV5860k, rated False, turns 56, status mate, winner black, time 1396196038414.0\n",
      "Game RyXZUOxL, rated False, turns 117, status mate, winner white, time 1396158429073.0\n",
      "Game QAlTkfST, rated False, turns 63, status mate, winner white, time 1396115531609.0\n",
      "Game YfM71i8S, rated False, turns 62, status resign, winner black, time 1396114150454.0\n",
      "Game 061LCiAb, rated False, turns 66, status draw, winner draw, time 1396112980274.0\n",
      "Game 6t02ANX0, rated False, turns 50, status resign, winner black, time 1396112474833.0\n",
      "Game 2B0zqXoo, rated False, turns 113, status resign, winner white, time 1396103285273.0\n",
      "Game y7XMwJYp, rated False, turns 97, status mate, winner white, time 1396080075386.0\n",
      "Game 9YwhzbXx, rated False, turns 132, status resign, winner black, time 1423768012646.0\n",
      "Game bhMDeuOb, rated False, turns 24, status outoftime, winner black, time 1400012778264.0\n",
      "Game xgnbnW0a, rated False, turns 82, status outoftime, winner black, time 1398812444197.0\n",
      "Game 30UDeFhA, rated False, turns 13, status mate, winner white, time 1434960675313.0\n",
      "Game gsFBil3q, rated False, turns 66, status resign, winner black, time 1396547094571.0\n",
      "Game kkXlHLyv, rated False, turns 99, status resign, winner white, time 1396462755219.0\n",
      "Game AcdNj67e, rated False, turns 54, status mate, winner black, time 1396453586125.0\n",
      "Game LW7kerZs, rated False, turns 46, status resign, winner white, time 1396437973571.0\n",
      "Game kMQp9E8m, rated False, turns 90, status resign, winner black, time 1396355518792.0\n",
      "Game eQihBvoU, rated False, turns 42, status resign, winner white, time 1396274298555.0\n",
      "Game p0OlEIGo, rated False, turns 58, status resign, winner black, time 1396103589239.0\n",
      "Game 6IrjVPc0, rated False, turns 53, status mate, winner white, time 1396102468998.0\n",
      "Game mjh5u1Ig, rated False, turns 47, status resign, winner white, time 1396099713514.0\n",
      "Game SFdjqzyr, rated False, turns 54, status mate, winner black, time 1396099198818.0\n",
      "Game quFoCNcW, rated False, turns 104, status mate, winner black, time 1396094208257.0\n",
      "Game 4URU1bmG, rated False, turns 99, status draw, winner draw, time 1396090525146.0\n",
      "Game NaZOjwJY, rated False, turns 81, status resign, winner white, time 1396088682004.0\n",
      "Game nnmASxQ6, rated False, turns 57, status resign, winner white, time 1396086801041.0\n",
      "Game cHhT3SPI, rated False, turns 58, status mate, winner black, time 1395944447479.0\n",
      "Game 3XqyqiLZ, rated False, turns 33, status resign, winner white, time 1395930673853.0\n",
      "Game EhpRGXtG, rated False, turns 65, status mate, winner white, time 1395928152191.0\n",
      "Game duhtxKw6, rated False, turns 80, status resign, winner black, time 1395856945301.0\n",
      "Game UkIkOmsC, rated False, turns 33, status resign, winner white, time 1395855810598.0\n",
      "Game j67nCume, rated False, turns 6, status resign, winner black, time 1395855557157.0\n",
      "Game DVaFUcT5, rated False, turns 71, status mate, winner white, time 1395854766300.0\n",
      "Game WCNAaQop, rated False, turns 65, status mate, winner white, time 1395851636637.0\n",
      "Game EAJcH3eg, rated False, turns 94, status mate, winner black, time 1395848797583.0\n",
      "Game kWKvrqYL, rated False, turns 61, status mate, winner white, time 1504107699427.0\n",
      "Game 9tXo1AUZ, rated False, turns 95, status mate, winner white, time 1504027357595.0\n",
      "Game 0gTDO6Av, rated False, turns 124, status mate, winner black, time 1504198922993.0\n",
      "Game t7vvcwqO, rated False, turns 96, status resign, winner black, time 1504181665319.0\n",
      "Game igSDFKv0, rated False, turns 53, status outoftime, winner white, time 1504180449600.0\n",
      "Game facMwkUo, rated False, turns 39, status mate, winner white, time 1504083171659.0\n",
      "Game j5KY62yS, rated False, turns 10, status mate, winner black, time 1504083112308.0\n",
      "Game nyYULwUl, rated False, turns 51, status mate, winner white, time 1504082518342.0\n",
      "Game h0YsGMhj, rated False, turns 18, status resign, winner black, time 1503807038654.0\n",
      "Game o4T7dj5h, rated False, turns 106, status mate, winner black, time 1503795853806.0\n",
      "Game VgNt0SSX, rated False, turns 38, status mate, winner black, time 1503768500121.0\n",
      "Game UvqLtnPM, rated False, turns 59, status mate, winner white, time 1503755643214.0\n",
      "Game 1b0kpInt, rated False, turns 111, status mate, winner white, time 1503752054196.0\n",
      "Game dJEtAQp7, rated False, turns 28, status resign, winner black, time 1503751732571.0\n",
      "Game ZPHBiKBY, rated False, turns 101, status outoftime, winner white, time 1503740797460.0\n",
      "Game I8odmGjb, rated False, turns 15, status mate, winner white, time 1503740530640.0\n",
      "Game DijZlfMy, rated False, turns 42, status resign, winner white, time 1503740087949.0\n",
      "Game LyRqbD4d, rated False, turns 118, status resign, winner black, time 1503739469142.0\n",
      "Game CvakmVNb, rated False, turns 34, status resign, winner black, time 1503739135570.0\n",
      "Game O037dETy, rated False, turns 60, status resign, winner black, time 1503738724395.0\n",
      "Game CxQlHSnq, rated False, turns 66, status resign, winner black, time 1503738125073.0\n",
      "Game Q0jogkvi, rated False, turns 21, status outoftime, winner white, time 1503680241171.0\n",
      "Game QurxyQkA, rated False, turns 73, status mate, winner white, time 1503665646861.0\n",
      "Game mJ9VpdxV, rated False, turns 159, status mate, winner white, time 1503663679072.0\n",
      "Game edYOVb5F, rated False, turns 74, status resign, winner white, time 1503596658177.0\n",
      "Game GstYv2mJ, rated False, turns 28, status mate, winner black, time 1503596247806.0\n",
      "Game dFQ5D7CS, rated False, turns 112, status mate, winner black, time 1503581249033.0\n",
      "Game Sfay2hYj, rated False, turns 64, status mate, winner black, time 1503730361067.0\n",
      "Game wytBeWQ0, rated False, turns 51, status resign, winner white, time 1503679758577.0\n",
      "Game Z0VzPUPm, rated False, turns 71, status mate, winner white, time 1503073984408.0\n",
      "Game 1pBIszeA, rated False, turns 49, status mate, winner white, time 1503073154881.0\n",
      "Game CAEZnTSC, rated False, turns 34, status mate, winner black, time 1503072789783.0\n",
      "Game JT1xA30W, rated False, turns 88, status outoftime, winner black, time 1493401330702.0\n",
      "Game 9UGcuRBe, rated False, turns 11, status draw, winner draw, time 1493226485596.0\n",
      "Game LSQ4yNeU, rated False, turns 11, status mate, winner white, time 1493226366224.0\n",
      "Game IdLtnMSr, rated False, turns 54, status resign, winner black, time 1504201250158.0\n",
      "Game jVg6I7ln, rated False, turns 43, status resign, winner white, time 1504200569976.0\n",
      "Game FBDzyVF9, rated False, turns 34, status resign, winner black, time 1504191075205.0\n",
      "Game 99WIHFGT, rated False, turns 122, status resign, winner black, time 1504190129222.0\n",
      "Game IwZxp7dg, rated False, turns 51, status mate, winner white, time 1504115574581.0\n",
      "Game ZP5ZQVcC, rated False, turns 62, status resign, winner black, time 1504115016225.0\n",
      "Game mcIe47kW, rated False, turns 30, status resign, winner black, time 1504114580086.0\n",
      "Game izepvFbk, rated False, turns 79, status outoftime, winner white, time 1504113507604.0\n",
      "Game 079kHDqh, rated False, turns 32, status resign, winner black, time 1504113218482.0\n",
      "Game 3HcbGoZ7, rated False, turns 78, status resign, winner black, time 1504112543527.0\n",
      "Game cMSuepTX, rated False, turns 42, status resign, winner white, time 1504045493473.0\n",
      "Game HFJ7z4tg, rated False, turns 42, status mate, winner black, time 1504045153097.0\n",
      "Game 6bL2hd0X, rated False, turns 59, status resign, winner white, time 1504044101366.0\n",
      "Game UiMj8nXK, rated False, turns 80, status resign, winner black, time 1503794907856.0\n",
      "Game pM3fIP4b, rated False, turns 31, status resign, winner black, time 1503761830020.0\n",
      "Game bTIIkDZL, rated False, turns 107, status outoftime, winner white, time 1503760634567.0\n",
      "Game Yekg9T0E, rated False, turns 18, status resign, winner black, time 1503760532698.0\n",
      "Game trc6nw8p, rated False, turns 72, status mate, winner black, time 1503709011548.0\n",
      "Game GK3m5eMT, rated False, turns 45, status resign, winner white, time 1503708330476.0\n",
      "Game ObJZSmQe, rated False, turns 66, status resign, winner black, time 1503686539265.0\n",
      "Game iJubJD4Y, rated False, turns 93, status resign, winner white, time 1503624058119.0\n",
      "Game oNpjGRlN, rated False, turns 90, status resign, winner black, time 1503539262012.0\n",
      "Game WB4cuSmD, rated False, turns 23, status resign, winner white, time 1503539126293.0\n",
      "Game rDQajEka, rated False, turns 118, status outoftime, winner black, time 1503515899722.0\n",
      "Game ZCuSLgmJ, rated False, turns 103, status draw, winner draw, time 1503515177429.0\n",
      "Game JDSNvohS, rated False, turns 23, status resign, winner white, time 1503514907635.0\n",
      "Game AusrgQtE, rated False, turns 91, status mate, winner white, time 1503453493431.0\n",
      "Game RjReoOOB, rated False, turns 56, status mate, winner black, time 1503436730686.0\n",
      "Game 5cfVF8SL, rated False, turns 71, status mate, winner white, time 1503436354142.0\n",
      "Game 9y0B0iGR, rated False, turns 48, status mate, winner black, time 1503436186521.0\n",
      "Game TpzoFNxO, rated False, turns 80, status resign, winner black, time 1503350881552.0\n",
      "Game c9WUjuhv, rated False, turns 33, status resign, winner white, time 1503350529521.0\n",
      "Game wZf7MIFt, rated False, turns 84, status outoftime, winner black, time 1503349513532.0\n",
      "Game xegjALEz, rated False, turns 51, status resign, winner white, time 1503342428537.0\n",
      "Game zKEJPiXZ, rated False, turns 47, status resign, winner black, time 1503341608952.0\n",
      "Game wmytcciw, rated False, turns 74, status resign, winner black, time 1503176706076.0\n",
      "Game Rl65IQlX, rated False, turns 77, status resign, winner black, time 1503175565713.0\n",
      "Game 0am1YP3X, rated False, turns 54, status resign, winner black, time 1503174808857.0\n",
      "Game mw9H8a1S, rated False, turns 75, status outoftime, winner white, time 1503173867395.0\n",
      "Game EqSC4jnk, rated False, turns 89, status outoftime, winner white, time 1503172583502.0\n",
      "Game 0CCos4zy, rated False, turns 62, status resign, winner black, time 1503171991209.0\n",
      "Game P8PM7tjz, rated False, turns 49, status resign, winner white, time 1503171085792.0\n",
      "Game 3Xzd26zM, rated False, turns 67, status resign, winner white, time 1503170512936.0\n",
      "Game Manr2avh, rated False, turns 73, status resign, winner white, time 1503170017138.0\n",
      "Game HJmmJQON, rated False, turns 43, status resign, winner white, time 1503169666809.0\n",
      "Game 4lFC7APk, rated False, turns 70, status resign, winner black, time 1503168853939.0\n",
      "Game 3rut0m4E, rated False, turns 28, status resign, winner black, time 1503168516630.0\n",
      "Game 9uLhcP9g, rated False, turns 16, status resign, winner black, time 1503107489689.0\n",
      "Game 6mELPaah, rated False, turns 18, status resign, winner black, time 1500085267342.0\n",
      "Game eP09Yv7W, rated False, turns 4, status mate, winner black, time 1500085220607.0\n",
      "Game KfuKdhkr, rated False, turns 54, status mate, winner black, time 1499934035416.0\n",
      "Game V7a3QIoB, rated False, turns 4, status mate, winner black, time 1499905313373.0\n",
      "Game mzWzFRLc, rated False, turns 5, status mate, winner white, time 1499905261868.0\n",
      "Game eBQhNVnO, rated False, turns 26, status mate, winner black, time 1499905070605.0\n",
      "Game pSa9EQDs, rated False, turns 4, status mate, winner black, time 1499905025453.0\n",
      "Game 2QfmNLYQ, rated False, turns 115, status draw, winner draw, time 1499858313595.0\n",
      "Game 23WLlukF, rated False, turns 108, status resign, winner black, time 1502599734182.0\n",
      "Game DTfofNSS, rated False, turns 154, status resign, winner black, time 1502508575484.0\n",
      "Game 6YAtxCka, rated False, turns 21, status resign, winner white, time 1502507920438.0\n",
      "Game JLfmEWad, rated False, turns 48, status mate, winner black, time 1502506088196.0\n",
      "Game FqftsOiN, rated False, turns 89, status draw, winner draw, time 1502504770506.0\n",
      "Game mskSEbwv, rated False, turns 31, status mate, winner white, time 1502504413619.0\n",
      "Game 1hVQBHde, rated False, turns 66, status mate, winner black, time 1502503154989.0\n",
      "Game MRBPa9AX, rated False, turns 80, status resign, winner white, time 1502501227361.0\n",
      "Game iCq06qa3, rated False, turns 62, status resign, winner white, time 1502439776218.0\n",
      "Game W9898sKn, rated False, turns 120, status mate, winner black, time 1502260561097.0\n",
      "Game cUi6SZv8, rated False, turns 38, status resign, winner white, time 1502257962056.0\n",
      "Game pmaYJ9Kv, rated False, turns 61, status outoftime, winner white, time 1502254714475.0\n",
      "Game dKenDQ27, rated False, turns 28, status resign, winner black, time 1502253926489.0\n",
      "Game sfeyoLzl, rated False, turns 99, status resign, winner white, time 1502247001635.0\n",
      "Game 79RGpjMH, rated False, turns 49, status resign, winner black, time 1501755991526.0\n",
      "Game KVgN96ck, rated False, turns 44, status resign, winner black, time 1501672399374.0\n",
      "Game 65Um9Tcf, rated False, turns 55, status resign, winner white, time 1501671503945.0\n",
      "Game stmk2OCH, rated False, turns 92, status resign, winner black, time 1501670579474.0\n",
      "Game niNth6JB, rated False, turns 27, status resign, winner white, time 1501670127597.0\n",
      "Game 0rISydr6, rated False, turns 98, status resign, winner black, time 1501666813268.0\n",
      "Game 9JFLJi6k, rated False, turns 24, status mate, winner black, time 1501666425152.0\n",
      "Game inyTCeV2, rated False, turns 4, status mate, winner black, time 1501666343382.0\n",
      "Game td0tnDDQ, rated False, turns 16, status resign, winner black, time 1501665879364.0\n",
      "Game uMoXrR1H, rated False, turns 85, status resign, winner white, time 1501660079281.0\n",
      "Game RmLnL0CM, rated False, turns 70, status mate, winner black, time 1501499002992.0\n",
      "Game djXJIqVW, rated False, turns 36, status resign, winner black, time 1501489141025.0\n",
      "Game srcEDwLR, rated False, turns 124, status draw, winner draw, time 1501487352980.0\n",
      "Game zlQThGVX, rated False, turns 61, status resign, winner white, time 1501486642157.0\n",
      "Game iZxEsXji, rated False, turns 66, status outoftime, winner black, time 1501485822265.0\n",
      "Game 0zirgLwT, rated False, turns 20, status resign, winner black, time 1501484510827.0\n",
      "Game DlQedaAr, rated False, turns 49, status resign, winner white, time 1501150139698.0\n",
      "Game yP8CgGMt, rated False, turns 42, status mate, winner black, time 1501149574065.0\n",
      "Game ZSUzhRPE, rated False, turns 55, status outoftime, winner white, time 1504279388250.0\n",
      "Game w7Jan8kW, rated False, turns 49, status resign, winner white, time 1503756959255.0\n",
      "Game 0pTEZ4c0, rated False, turns 78, status mate, winner black, time 1503756959255.0\n",
      "Game 3hmhY2QN, rated False, turns 29, status draw, winner draw, time 1503584396951.0\n",
      "Game oKdWwqks, rated False, turns 65, status draw, winner draw, time 1503584396951.0\n",
      "Game qFAi4678, rated False, turns 66, status draw, winner draw, time 1503584396951.0\n",
      "Game uwEoLEqt, rated False, turns 112, status draw, winner draw, time 1503584396951.0\n",
      "Game rqAoLyjN, rated False, turns 70, status draw, winner draw, time 1503584396950.0\n",
      "Game XRuQPSzH, rated False, turns 50, status resign, winner black, time 1503583909935.0\n",
      "Game RDWDc6gB, rated False, turns 40, status resign, winner black, time 1503583517305.0\n",
      "Game y2fV8bHp, rated False, turns 33, status mate, winner white, time 1503499599769.0\n",
      "Game 6Ew7d4T6, rated False, turns 30, status mate, winner black, time 1503499303159.0\n",
      "Game hYgldZgW, rated False, turns 53, status mate, winner white, time 1503499080342.0\n",
      "Game zPupVDBF, rated False, turns 30, status draw, winner draw, time 1502376459163.0\n",
      "Game D45GXjvY, rated False, turns 11, status draw, winner draw, time 1502376048117.0\n",
      "Game gB9xoMat, rated False, turns 3, status draw, winner draw, time 1502376048117.0\n",
      "Game 4h5pgEPz, rated False, turns 67, status draw, winner draw, time 1501854966263.0\n",
      "Game DaPlAfc1, rated False, turns 41, status resign, winner black, time 1501853963225.0\n",
      "Game 40aPOms3, rated False, turns 28, status resign, winner white, time 1501853861079.0\n",
      "Game B7pm4CS7, rated False, turns 52, status resign, winner white, time 1501421422688.0\n",
      "Game CZydGTTM, rated False, turns 30, status resign, winner black, time 1501251098192.0\n",
      "Game x7AA1vc4, rated False, turns 89, status mate, winner white, time 1502650947076.0\n",
      "Game kNKj3koe, rated False, turns 132, status mate, winner black, time 1503591083929.0\n",
      "Game rw7RU3xt, rated False, turns 55, status resign, winner white, time 1503230210654.0\n",
      "Game UqXGYbEO, rated False, turns 95, status mate, winner white, time 1503204549243.0\n",
      "Game khJOZetm, rated False, turns 72, status resign, winner white, time 1504178325377.0\n",
      "Game 8CCBHpef, rated False, turns 63, status resign, winner white, time 1504173277091.0\n",
      "Game MP8TYTbX, rated False, turns 141, status resign, winner white, time 1504171944582.0\n",
      "Game mu5KYglJ, rated False, turns 92, status mate, winner black, time 1504170378152.0\n",
      "Game 2shZQ2X6, rated False, turns 64, status resign, winner black, time 1504169955664.0\n",
      "Game 4qRYXCHX, rated False, turns 90, status resign, winner black, time 1504169351560.0\n",
      "Game XNMbvz8v, rated False, turns 70, status mate, winner black, time 1504169025562.0\n",
      "Game ILxgRGiu, rated False, turns 68, status resign, winner black, time 1504106978376.0\n",
      "Game c4xul4aH, rated False, turns 63, status mate, winner white, time 1504105723337.0\n",
      "Game i5ecUxVn, rated False, turns 43, status resign, winner white, time 1497990961542.0\n",
      "Game IjFip9KO, rated False, turns 48, status draw, winner draw, time 1496074101160.0\n",
      "Game q4r3EdZI, rated False, turns 57, status mate, winner white, time 1501071102535.0\n",
      "Game MeJ86Rct, rated False, turns 19, status resign, winner white, time 1501070954976.0\n",
      "Game JkHzVMgg, rated False, turns 98, status mate, winner black, time 1501069765067.0\n",
      "Game qqdwmJyX, rated False, turns 35, status mate, winner white, time 1501069519666.0\n",
      "Game JVDhxVQw, rated False, turns 41, status mate, winner white, time 1494204066370.0\n",
      "Game kgU4IzNb, rated False, turns 75, status mate, winner white, time 1494090008520.0\n",
      "Game 3IGubBMZ, rated False, turns 111, status mate, winner white, time 1504264687288.0\n",
      "Game a3IM5ZlR, rated False, turns 27, status mate, winner white, time 1504264379185.0\n",
      "Game C78mg5wI, rated False, turns 19, status resign, winner black, time 1504264214694.0\n",
      "Game qAjnQuMs, rated False, turns 27, status resign, winner black, time 1504264062010.0\n",
      "Game rqcPeu3M, rated False, turns 25, status mate, winner white, time 1504261868748.0\n",
      "Game OeIyJzKT, rated False, turns 102, status resign, winner black, time 1504260770768.0\n",
      "Game 5JlKibRN, rated False, turns 60, status mate, winner black, time 1504260126280.0\n",
      "Game SUWEHMFw, rated False, turns 62, status mate, winner black, time 1504259209496.0\n",
      "Game doUy4nEv, rated False, turns 130, status draw, winner draw, time 1504254133612.0\n",
      "Game EsroTMo9, rated False, turns 61, status mate, winner white, time 1504253244392.0\n",
      "Game QD32OPEC, rated False, turns 63, status mate, winner white, time 1503995140403.0\n",
      "Game 6M0gH6Hy, rated False, turns 50, status mate, winner black, time 1503994596578.0\n",
      "Game mQmeRjep, rated False, turns 26, status mate, winner black, time 1503994275075.0\n",
      "Game BTWBBxuj, rated False, turns 33, status mate, winner white, time 1503994034926.0\n",
      "Game zZK6BQrf, rated False, turns 17, status mate, winner white, time 1503993936439.0\n",
      "Game 8iCBDNOc, rated False, turns 32, status resign, winner black, time 1503993602056.0\n",
      "Game bHXgtlis, rated False, turns 92, status outoftime, winner black, time 1503990547787.0\n",
      "Game 9SLJdD3l, rated False, turns 47, status mate, winner white, time 1503990072726.0\n",
      "Game jPu5u90q, rated False, turns 25, status resign, winner white, time 1503989910876.0\n",
      "Game G2fnVSUC, rated False, turns 71, status mate, winner white, time 1503989188543.0\n",
      "Game 4bLQaDKI, rated False, turns 57, status mate, winner white, time 1503988560142.0\n",
      "Game LlI2vr6r, rated False, turns 43, status draw, winner draw, time 1503988093773.0\n",
      "Game cjByhYWB, rated False, turns 17, status mate, winner white, time 1503987914649.0\n",
      "Game 8c1sF2CM, rated False, turns 2, status outoftime, winner black, time 1496221624010.0\n",
      "Game wX3EQAPu, rated False, turns 2, status resign, winner black, time 1495005582083.0\n",
      "Game rVHJzpo8, rated False, turns 8, status resign, winner black, time 1494407847278.0\n",
      "Game LtakuRwC, rated False, turns 62, status mate, winner black, time 1489659844905.0\n",
      "Game yPT5JaJx, rated False, turns 4, status resign, winner black, time 1487673631217.0\n",
      "Game dv89jgip, rated False, turns 2, status resign, winner black, time 1487668091749.0\n",
      "Game uhsgwEWX, rated False, turns 2, status resign, winner white, time 1487667957110.0\n",
      "Game qt1farO7, rated False, turns 2, status resign, winner black, time 1487667887032.0\n",
      "Game 3jaOrAPh, rated False, turns 5, status resign, winner white, time 1487667438106.0\n",
      "Game 2Oki1TZT, rated False, turns 15, status resign, winner white, time 1487666593342.0\n",
      "Game Ry7WqOgZ, rated False, turns 26, status mate, winner black, time 1487594778463.0\n",
      "Game Z7JqMQzu, rated False, turns 38, status mate, winner black, time 1487594510551.0\n",
      "Game 9MpjI8xF, rated False, turns 69, status mate, winner white, time 1487594006951.0\n",
      "Game b5lyUYiv, rated False, turns 44, status mate, winner black, time 1487580263998.0\n",
      "Game kmWD4yQ1, rated False, turns 37, status mate, winner white, time 1487580081786.0\n",
      "Game CFPz3QHX, rated False, turns 64, status mate, winner black, time 1487579787639.0\n",
      "Game lpk1eSSE, rated False, turns 63, status resign, winner white, time 1491077811914.0\n",
      "Game 662OTUFG, rated False, turns 54, status resign, winner white, time 1490273666658.0\n",
      "Game MVFHuMKf, rated False, turns 50, status mate, winner black, time 1490188515437.0\n",
      "Game 7EMmJstV, rated False, turns 44, status mate, winner black, time 1490129331637.0\n",
      "Game UTaOMwUN, rated False, turns 37, status resign, winner black, time 1490128747975.0\n",
      "Game R9HE5IB3, rated False, turns 21, status resign, winner white, time 1490128639624.0\n",
      "Game JUT64Pid, rated False, turns 149, status mate, winner white, time 1490127664055.0\n",
      "Game vYi0GNRa, rated False, turns 94, status resign, winner black, time 1490080679314.0\n",
      "Game INCYfxL4, rated False, turns 61, status resign, winner white, time 1490078586417.0\n",
      "Game EjwyYXuk, rated False, turns 21, status resign, winner white, time 1490077157231.0\n",
      "Game 8obrNAfO, rated False, turns 50, status mate, winner black, time 1490076132892.0\n",
      "Game MSFhPYsW, rated False, turns 30, status resign, winner black, time 1490075359018.0\n",
      "Game TSOTQbf5, rated False, turns 55, status mate, winner white, time 1490048382786.0\n",
      "Game FhFpUgiq, rated False, turns 57, status resign, winner white, time 1490047598365.0\n",
      "Game lrT5E2fF, rated False, turns 48, status resign, winner black, time 1490047201481.0\n",
      "Game ZyOAeScc, rated False, turns 21, status resign, winner black, time 1489964559899.0\n",
      "Game Z7eY0Y0J, rated False, turns 35, status resign, winner white, time 1489964273752.0\n",
      "Game 843yMmfa, rated False, turns 43, status resign, winner white, time 1489964078110.0\n",
      "Game 3MEFOx8H, rated False, turns 111, status mate, winner white, time 1489963595592.0\n",
      "Game SbmCYQjH, rated False, turns 49, status outoftime, winner white, time 1489962610676.0\n",
      "Game AekHFlp2, rated False, turns 40, status outoftime, winner black, time 1489917671510.0\n",
      "Game PgjWouBw, rated False, turns 57, status resign, winner black, time 1489914980525.0\n",
      "Game NQQpViEr, rated False, turns 14, status resign, winner white, time 1489894903333.0\n",
      "Game pvahQeRF, rated False, turns 10, status resign, winner white, time 1504379784954.0\n",
      "Game 3IPPVr9Y, rated False, turns 12, status resign, winner white, time 1504221212593.0\n",
      "Game MlPEI8pA, rated False, turns 38, status resign, winner black, time 1504118327023.0\n",
      "Game jlxDAOJz, rated False, turns 70, status resign, winner black, time 1504205357903.0\n",
      "Game Xb7CydfV, rated False, turns 66, status mate, winner black, time 1504471838373.0\n",
      "Game dmDRp2sC, rated False, turns 61, status outoftime, winner white, time 1504471282146.0\n",
      "Game cmfM3vr9, rated False, turns 69, status resign, winner white, time 1504470622503.0\n",
      "Game Hj23Y0k5, rated False, turns 74, status outoftime, winner black, time 1504469753540.0\n",
      "Game FoGBNiqO, rated False, turns 94, status mate, winner black, time 1504469096788.0\n",
      "Game fPQvNK6L, rated False, turns 75, status resign, winner white, time 1504468632454.0\n",
      "Game TPRYE54j, rated False, turns 92, status outoftime, winner black, time 1504467611508.0\n",
      "Game cLZLdARn, rated False, turns 76, status mate, winner black, time 1504467085875.0\n",
      "Game bbgVRZrl, rated False, turns 58, status resign, winner white, time 1504466520978.0\n",
      "Game 299htGOa, rated False, turns 119, status mate, winner white, time 1504465790771.0\n",
      "Game bM6kL3YE, rated False, turns 70, status resign, winner black, time 1504465259279.0\n",
      "Game cqvcjaDD, rated False, turns 121, status outoftime, winner white, time 1504386239488.0\n",
      "Game ySnYe7O0, rated False, turns 75, status resign, winner white, time 1504385360851.0\n",
      "Game IRsVxsLY, rated False, turns 109, status mate, winner white, time 1504384709192.0\n",
      "Game KmqpVjte, rated False, turns 87, status resign, winner white, time 1504384202393.0\n",
      "Game MGkqyA4X, rated False, turns 77, status resign, winner white, time 1504383797080.0\n",
      "Game 2Nk1rUCU, rated False, turns 87, status outoftime, winner white, time 1504382853250.0\n",
      "Game kzxfItmB, rated False, turns 91, status mate, winner white, time 1504381931536.0\n",
      "Game vtCUw4Z9, rated False, turns 50, status mate, winner black, time 1504381487079.0\n",
      "Game dOQaxzEn, rated False, turns 29, status mate, winner white, time 1504381373457.0\n",
      "Game RjODDIbs, rated False, turns 117, status resign, winner black, time 1504380767267.0\n",
      "Game IDbDPz4E, rated False, turns 47, status resign, winner white, time 1504380392745.0\n",
      "Game Vt6ziGBL, rated False, turns 150, status resign, winner black, time 1504379841844.0\n",
      "Game pvahQeRF, rated False, turns 10, status resign, winner white, time 1504379784954.0\n",
      "Game AKuWPODR, rated False, turns 108, status resign, winner black, time 1504378865619.0\n",
      "Game MBtZLMaS, rated False, turns 42, status resign, winner black, time 1504215925703.0\n",
      "Game fsVliFww, rated False, turns 87, status mate, winner white, time 1504215301616.0\n",
      "Game DmFupUp9, rated False, turns 69, status outoftime, winner white, time 1504214728672.0\n",
      "Game MJDEd1R1, rated False, turns 94, status resign, winner black, time 1504214151983.0\n",
      "Game 4bhYjzWn, rated False, turns 56, status resign, winner black, time 1504213430709.0\n",
      "Game 07qaUepw, rated False, turns 47, status resign, winner white, time 1504213034130.0\n",
      "Game peDF4tDs, rated False, turns 113, status outoftime, winner white, time 1504212418735.0\n",
      "Game oOSERiCN, rated False, turns 79, status draw, winner draw, time 1504441563045.0\n",
      "Game TaJPxLiw, rated False, turns 32, status mate, winner black, time 1502371242987.0\n",
      "Game r2khP5Vs, rated False, turns 43, status resign, winner black, time 1502370544586.0\n",
      "Game IVrAnmJv, rated False, turns 81, status resign, winner black, time 1498858500484.0\n",
      "Game vZvrBGAQ, rated False, turns 31, status mate, winner white, time 1498775003078.0\n",
      "Game 9ptYOW8L, rated False, turns 27, status resign, winner white, time 1498774666571.0\n",
      "Game awZ3R17W, rated False, turns 42, status resign, winner white, time 1492935323578.0\n",
      "Game RS68WCJP, rated False, turns 46, status resign, winner white, time 1484944672153.0\n",
      "Game jwaipTby, rated False, turns 124, status mate, winner black, time 1484867689463.0\n",
      "Game u1g5LTHq, rated False, turns 46, status outoftime, winner black, time 1484338470907.0\n",
      "Game TciMcYZX, rated False, turns 85, status resign, winner white, time 1483730984312.0\n",
      "Game pi46u5H1, rated False, turns 39, status mate, winner white, time 1482266073959.0\n",
      "Game 13Bhzfum, rated False, turns 38, status outoftime, winner black, time 1482084158042.0\n",
      "Game hUEg89zo, rated False, turns 53, status resign, winner white, time 1481494557315.0\n",
      "Game vFtmDOwT, rated False, turns 63, status resign, winner white, time 1481314410456.0\n",
      "Game 3RyTRCMI, rated False, turns 37, status resign, winner white, time 1481312536394.0\n",
      "Game 2n4fQAJi, rated False, turns 114, status draw, winner draw, time 1480615673152.0\n",
      "Game 3CmelaEs, rated False, turns 27, status resign, winner white, time 1504320355715.0\n",
      "Game z1LTn4pe, rated False, turns 40, status resign, winner black, time 1503677497121.0\n",
      "Game 7NKtCk3B, rated False, turns 111, status mate, winner white, time 1503674227220.0\n",
      "Game TMtvbg3w, rated False, turns 54, status mate, winner black, time 1503594003103.0\n",
      "Game 0OXPfTEt, rated False, turns 33, status resign, winner white, time 1503592801274.0\n",
      "Game YzMf40DM, rated False, turns 90, status resign, winner black, time 1503592016810.0\n",
      "Game q3NHAFFp, rated False, turns 90, status resign, winner black, time 1503590801347.0\n",
      "Game Gz7Icasx, rated False, turns 40, status mate, winner black, time 1503590473110.0\n",
      "Game 3n4poRIX, rated False, turns 49, status outoftime, winner white, time 1503588906763.0\n",
      "Game XRuQPSzH, rated False, turns 50, status resign, winner black, time 1503583909935.0\n",
      "Game XPZikam7, rated False, turns 59, status mate, winner white, time 1503499871708.0\n",
      "Game bGiGLLkt, rated False, turns 104, status mate, winner black, time 1504462394439.0\n",
      "Game qUetu3Fa, rated False, turns 33, status resign, winner white, time 1504461524016.0\n",
      "Game LmAF9EOQ, rated False, turns 64, status mate, winner black, time 1504461448602.0\n",
      "Game ZWXisimD, rated False, turns 62, status outoftime, winner black, time 1504431197149.0\n",
      "Game VW8jn694, rated False, turns 47, status mate, winner white, time 1504430279512.0\n",
      "Game VCm6Y9sa, rated False, turns 30, status resign, winner white, time 1504429928401.0\n",
      "Game JfT9yIBl, rated False, turns 24, status resign, winner white, time 1504429201572.0\n",
      "Game 1GJI8zgp, rated False, turns 20, status resign, winner white, time 1504427586244.0\n",
      "Game 1vZFGZU4, rated False, turns 66, status resign, winner black, time 1504413960930.0\n",
      "Game orGL4RMu, rated False, turns 12, status outoftime, winner black, time 1504372513828.0\n",
      "Game 5ORW5WNC, rated False, turns 63, status resign, winner black, time 1504371280241.0\n",
      "Game Bys3Uii4, rated False, turns 82, status resign, winner white, time 1504344874055.0\n",
      "Game 6XdCEkkJ, rated False, turns 87, status resign, winner white, time 1504343009286.0\n",
      "Game VCvbNgko, rated False, turns 19, status resign, winner white, time 1504285732667.0\n",
      "Game kvaVGWlk, rated False, turns 59, status mate, winner white, time 1504284848365.0\n",
      "Game 0gTDO6Av, rated False, turns 124, status mate, winner black, time 1504198922993.0\n",
      "Game t7vvcwqO, rated False, turns 96, status resign, winner black, time 1504181665319.0\n",
      "Game igSDFKv0, rated False, turns 53, status outoftime, winner white, time 1504180449600.0\n",
      "Game facMwkUo, rated False, turns 39, status mate, winner white, time 1504083171659.0\n",
      "Game j5KY62yS, rated False, turns 10, status mate, winner black, time 1504083112308.0\n",
      "Game nyYULwUl, rated False, turns 51, status mate, winner white, time 1504082518342.0\n",
      "Game h0YsGMhj, rated False, turns 18, status resign, winner black, time 1503807038654.0\n",
      "Game o4T7dj5h, rated False, turns 106, status mate, winner black, time 1503795853806.0\n",
      "Game VgNt0SSX, rated False, turns 38, status mate, winner black, time 1503768500121.0\n",
      "Game UvqLtnPM, rated False, turns 59, status mate, winner white, time 1503755643214.0\n",
      "Game 1b0kpInt, rated False, turns 111, status mate, winner white, time 1503752054196.0\n",
      "Game dJEtAQp7, rated False, turns 28, status resign, winner black, time 1503751732571.0\n",
      "Game ZPHBiKBY, rated False, turns 101, status outoftime, winner white, time 1503740797460.0\n",
      "Game I8odmGjb, rated False, turns 15, status mate, winner white, time 1503740530640.0\n",
      "Game DijZlfMy, rated False, turns 42, status resign, winner white, time 1503740087949.0\n",
      "Game LyRqbD4d, rated False, turns 118, status resign, winner black, time 1503739469142.0\n",
      "Game CvakmVNb, rated False, turns 34, status resign, winner black, time 1503739135570.0\n",
      "Game O037dETy, rated False, turns 60, status resign, winner black, time 1503738724395.0\n",
      "Game CxQlHSnq, rated False, turns 66, status resign, winner black, time 1503738125073.0\n",
      "Game Q0jogkvi, rated False, turns 21, status outoftime, winner white, time 1503680241171.0\n",
      "Game QurxyQkA, rated False, turns 73, status mate, winner white, time 1503665646861.0\n",
      "Game mJ9VpdxV, rated False, turns 159, status mate, winner white, time 1503663679072.0\n",
      "Game edYOVb5F, rated False, turns 74, status resign, winner white, time 1503596658177.0\n",
      "Game GstYv2mJ, rated False, turns 28, status mate, winner black, time 1503596247806.0\n",
      "Game dFQ5D7CS, rated False, turns 112, status mate, winner black, time 1503581249033.0\n",
      "Game JdzySEO4, rated False, turns 96, status outoftime, winner black, time 1503233627821.0\n",
      "Game MgmLb2jQ, rated False, turns 63, status resign, winner white, time 1503152437558.0\n",
      "Game pN0ioHNr, rated False, turns 349, status outoftime, winner white, time 1503084425823.0\n",
      "Game ZEczGP5i, rated False, turns 157, status resign, winner white, time 1503082939080.0\n",
      "Game 0KNM12o8, rated False, turns 23, status resign, winner white, time 1503081539569.0\n",
      "Game 8kEcTD4b, rated False, turns 64, status resign, winner black, time 1503080996554.0\n",
      "Game 3HKtv6te, rated False, turns 46, status resign, winner white, time 1503080643482.0\n",
      "Game VyhTybZJ, rated False, turns 67, status resign, winner black, time 1503079971471.0\n",
      "Game xs1VBiLR, rated False, turns 118, status mate, winner black, time 1503789634820.0\n",
      "Game IJeOuv9I, rated False, turns 49, status mate, winner white, time 1503789359244.0\n",
      "Game oztjGqcs, rated False, turns 64, status resign, winner black, time 1503788810597.0\n",
      "Game 6Is0IXFg, rated False, turns 42, status mate, winner black, time 1503788402339.0\n",
      "Game gzKxnMzD, rated False, turns 35, status mate, winner white, time 1503278978005.0\n",
      "Game AsvsUeMB, rated False, turns 40, status resign, winner white, time 1503881369708.0\n",
      "Game fBGwI6l5, rated False, turns 123, status resign, winner white, time 1504374322246.0\n",
      "Game 6mELPaah, rated False, turns 18, status resign, winner black, time 1500085267342.0\n",
      "Game eP09Yv7W, rated False, turns 4, status mate, winner black, time 1500085220607.0\n",
      "Game KfuKdhkr, rated False, turns 54, status mate, winner black, time 1499934035416.0\n",
      "Game V7a3QIoB, rated False, turns 4, status mate, winner black, time 1499905313373.0\n",
      "Game mzWzFRLc, rated False, turns 5, status mate, winner white, time 1499905261868.0\n",
      "Game eBQhNVnO, rated False, turns 26, status mate, winner black, time 1499905070605.0\n",
      "Game pSa9EQDs, rated False, turns 4, status mate, winner black, time 1499905025453.0\n",
      "Game 2QfmNLYQ, rated False, turns 115, status draw, winner draw, time 1499858313595.0\n",
      "Game ZSUzhRPE, rated False, turns 55, status outoftime, winner white, time 1504279388250.0\n",
      "Game w7Jan8kW, rated False, turns 49, status resign, winner white, time 1503756959255.0\n",
      "Game 0pTEZ4c0, rated False, turns 78, status mate, winner black, time 1503756959255.0\n",
      "Game 3hmhY2QN, rated False, turns 29, status draw, winner draw, time 1503584396951.0\n",
      "Game oKdWwqks, rated False, turns 65, status draw, winner draw, time 1503584396951.0\n",
      "Game qFAi4678, rated False, turns 66, status draw, winner draw, time 1503584396951.0\n",
      "Game uwEoLEqt, rated False, turns 112, status draw, winner draw, time 1503584396951.0\n",
      "Game rqAoLyjN, rated False, turns 70, status draw, winner draw, time 1503584396950.0\n",
      "Game XRuQPSzH, rated False, turns 50, status resign, winner black, time 1503583909935.0\n",
      "Game RDWDc6gB, rated False, turns 40, status resign, winner black, time 1503583517305.0\n",
      "Game y2fV8bHp, rated False, turns 33, status mate, winner white, time 1503499599769.0\n",
      "Game 6Ew7d4T6, rated False, turns 30, status mate, winner black, time 1503499303159.0\n",
      "Game hYgldZgW, rated False, turns 53, status mate, winner white, time 1503499080342.0\n",
      "Game zPupVDBF, rated False, turns 30, status draw, winner draw, time 1502376459163.0\n",
      "Game D45GXjvY, rated False, turns 11, status draw, winner draw, time 1502376048117.0\n",
      "Game gB9xoMat, rated False, turns 3, status draw, winner draw, time 1502376048117.0\n",
      "Game 4h5pgEPz, rated False, turns 67, status draw, winner draw, time 1501854966263.0\n",
      "Game DaPlAfc1, rated False, turns 41, status resign, winner black, time 1501853963225.0\n",
      "Game 40aPOms3, rated False, turns 28, status resign, winner white, time 1501853861079.0\n",
      "Game B7pm4CS7, rated False, turns 52, status resign, winner white, time 1501421422688.0\n",
      "Game CZydGTTM, rated False, turns 30, status resign, winner black, time 1501251098192.0\n",
      "Game y1RCphBl, rated False, turns 15, status mate, winner white, time 1499244164485.0\n",
      "Game mBNYTH1k, rated False, turns 84, status resign, winner black, time 1504371769731.0\n",
      "Game StUUMxck, rated False, turns 29, status mate, winner white, time 1504371170537.0\n",
      "Game khJOZetm, rated False, turns 72, status resign, winner white, time 1504178325377.0\n",
      "Game 8CCBHpef, rated False, turns 63, status resign, winner white, time 1504173277091.0\n",
      "Game MP8TYTbX, rated False, turns 141, status resign, winner white, time 1504171944582.0\n",
      "Game mu5KYglJ, rated False, turns 92, status mate, winner black, time 1504170378152.0\n",
      "Game 2shZQ2X6, rated False, turns 64, status resign, winner black, time 1504169955664.0\n",
      "Game 4qRYXCHX, rated False, turns 90, status resign, winner black, time 1504169351560.0\n",
      "Game XNMbvz8v, rated False, turns 70, status mate, winner black, time 1504169025562.0\n",
      "Game ILxgRGiu, rated False, turns 68, status resign, winner black, time 1504106978376.0\n",
      "Game c4xul4aH, rated False, turns 63, status mate, winner white, time 1504105723337.0\n",
      "Game vpjY6bCl, rated False, turns 90, status mate, winner black, time 1499619609589.0\n",
      "Game gXIY20TB, rated False, turns 52, status mate, winner black, time 1504455944013.0\n",
      "Game vdfwaSUh, rated False, turns 75, status mate, winner white, time 1504352283407.0\n",
      "Game YemMISHn, rated False, turns 50, status resign, winner black, time 1504351430716.0\n",
      "Game JTN2v1Hw, rated False, turns 105, status resign, winner white, time 1504338670651.0\n",
      "Game rOlaRpsu, rated False, turns 69, status resign, winner white, time 1504338179742.0\n",
      "Game MszqM2HI, rated False, turns 116, status mate, winner black, time 1504337588251.0\n",
      "Game fQ4D2RZl, rated False, turns 41, status resign, winner black, time 1504337288276.0\n",
      "Game YpyJ5aC8, rated False, turns 44, status mate, winner black, time 1504336996845.0\n",
      "Game MEozwK8o, rated False, turns 109, status mate, winner white, time 1504263048288.0\n",
      "Game XJKX8Ntn, rated False, turns 17, status mate, winner white, time 1504262933091.0\n",
      "Game 5n85XdMR, rated False, turns 47, status mate, winner white, time 1504261469301.0\n",
      "Game PKgndYZq, rated False, turns 20, status resign, winner black, time 1504260368107.0\n",
      "Game UnmBEhV1, rated False, turns 15, status resign, winner white, time 1504260199576.0\n",
      "Game GWmNJJX8, rated False, turns 45, status resign, winner white, time 1504259252494.0\n",
      "Game QCIIrbqK, rated False, turns 45, status resign, winner white, time 1504257651189.0\n",
      "Game pYS9onrM, rated False, turns 46, status resign, winner black, time 1504256551646.0\n",
      "Game vqp6VIDL, rated False, turns 77, status resign, winner white, time 1504185019225.0\n",
      "Game yTmsYmAv, rated False, turns 43, status resign, winner white, time 1504095950596.0\n",
      "Game tvAeaZEL, rated False, turns 81, status outoftime, winner white, time 1504095155791.0\n",
      "Game PeK0Ckho, rated False, turns 139, status mate, winner white, time 1504094402821.0\n",
      "Game OrFK4oYB, rated False, turns 54, status mate, winner black, time 1504079057869.0\n",
      "Game dij5GBNh, rated False, turns 60, status mate, winner black, time 1504011236067.0\n",
      "Game ivQJeein, rated False, turns 36, status resign, winner black, time 1504010813420.0\n",
      "Game dD90S0Xp, rated False, turns 114, status mate, winner black, time 1496585580106.0\n",
      "Game TKPSGcYB, rated False, turns 107, status mate, winner white, time 1496584697534.0\n",
      "Game dbGUXGos, rated False, turns 92, status mate, winner black, time 1496583299314.0\n",
      "Game y8NY6Zni, rated False, turns 63, status mate, winner white, time 1496582427871.0\n",
      "Game scN2qQfq, rated False, turns 36, status mate, winner black, time 1496578314848.0\n",
      "Game OWd1G3jm, rated False, turns 55, status resign, winner white, time 1496577716488.0\n",
      "Game 55NKPGPj, rated False, turns 85, status mate, winner white, time 1496574409946.0\n",
      "Game 47RJcEJR, rated False, turns 118, status resign, winner black, time 1496572923100.0\n",
      "Game dKq8gYTk, rated False, turns 55, status mate, winner white, time 1496567724056.0\n",
      "Game 0LeqFhxc, rated False, turns 135, status draw, winner draw, time 1496565888388.0\n",
      "Game MiwgmdxP, rated False, turns 78, status mate, winner black, time 1496564626932.0\n",
      "Game IOHtxlJ9, rated False, turns 40, status resign, winner black, time 1496550042955.0\n",
      "Game jbGMdkj6, rated False, turns 114, status outoftime, winner draw, time 1496549143793.0\n",
      "Game h4JUcUsl, rated False, turns 68, status mate, winner black, time 1496508373731.0\n",
      "Game OjGhMkmy, rated False, turns 81, status outoftime, winner white, time 1499595481797.0\n",
      "Game ka4QRPxC, rated False, turns 64, status resign, winner black, time 1496411672639.0\n",
      "Game IsrvOLZO, rated False, turns 30, status resign, winner black, time 1503912389611.0\n",
      "Game HNN7bCZg, rated False, turns 70, status mate, winner black, time 1495544546144.0\n",
      "Game cn5Zim8J, rated False, turns 75, status resign, winner white, time 1495542297916.0\n",
      "Game 5qRbasew, rated False, turns 104, status draw, winner draw, time 1495538926532.0\n",
      "Game JfFRsvO5, rated False, turns 96, status resign, winner black, time 1504166738893.0\n",
      "Game mlShyrFm, rated False, turns 198, status resign, winner black, time 1504340590207.0\n",
      "Game eomP0DuT, rated False, turns 18, status resign, winner black, time 1504340485193.0\n",
      "Game yKYHm4Op, rated False, turns 18, status resign, winner black, time 1504340343260.0\n",
      "Game QrUv3AsE, rated False, turns 51, status mate, winner white, time 1504339918620.0\n",
      "Game WsBU5Shk, rated False, turns 45, status draw, winner draw, time 1504339616114.0\n",
      "Game L73YbAxw, rated False, turns 36, status resign, winner white, time 1504339203870.0\n",
      "Game yZwB2tve, rated False, turns 81, status resign, winner black, time 1504338333611.0\n",
      "Game Ap1IrBGu, rated False, turns 87, status resign, winner white, time 1504333161656.0\n",
      "Game k2v0EYFl, rated False, turns 68, status mate, winner black, time 1504331503557.0\n",
      "Game 3IGubBMZ, rated False, turns 111, status mate, winner white, time 1504264687288.0\n",
      "Game a3IM5ZlR, rated False, turns 27, status mate, winner white, time 1504264379185.0\n",
      "Game C78mg5wI, rated False, turns 19, status resign, winner black, time 1504264214694.0\n",
      "Game qAjnQuMs, rated False, turns 27, status resign, winner black, time 1504264062010.0\n",
      "Game rqcPeu3M, rated False, turns 25, status mate, winner white, time 1504261868748.0\n",
      "Game OeIyJzKT, rated False, turns 102, status resign, winner black, time 1504260770768.0\n",
      "Game 5JlKibRN, rated False, turns 60, status mate, winner black, time 1504260126280.0\n",
      "Game SUWEHMFw, rated False, turns 62, status mate, winner black, time 1504259209496.0\n",
      "Game doUy4nEv, rated False, turns 130, status draw, winner draw, time 1504254133612.0\n",
      "Game EsroTMo9, rated False, turns 61, status mate, winner white, time 1504253244392.0\n",
      "Game QD32OPEC, rated False, turns 63, status mate, winner white, time 1503995140403.0\n",
      "Game 6M0gH6Hy, rated False, turns 50, status mate, winner black, time 1503994596578.0\n",
      "Game mQmeRjep, rated False, turns 26, status mate, winner black, time 1503994275075.0\n",
      "Game BTWBBxuj, rated False, turns 33, status mate, winner white, time 1503994034926.0\n",
      "Game zZK6BQrf, rated False, turns 17, status mate, winner white, time 1503993936439.0\n",
      "Game 8iCBDNOc, rated False, turns 32, status resign, winner black, time 1503993602056.0\n",
      "Game bHXgtlis, rated False, turns 92, status outoftime, winner black, time 1503990547787.0\n",
      "Game 9SLJdD3l, rated False, turns 47, status mate, winner white, time 1503990072726.0\n",
      "Game jPu5u90q, rated False, turns 25, status resign, winner white, time 1503989910876.0\n",
      "Game G2fnVSUC, rated False, turns 71, status mate, winner white, time 1503989188543.0\n",
      "Game 4bLQaDKI, rated False, turns 57, status mate, winner white, time 1503988560142.0\n",
      "Game LlI2vr6r, rated False, turns 43, status draw, winner draw, time 1503988093773.0\n",
      "Game cjByhYWB, rated False, turns 17, status mate, winner white, time 1503987914649.0\n",
      "Game Yp4jLZ93, rated False, turns 59, status mate, winner white, time 1499782546018.0\n",
      "Game 568925uc, rated False, turns 82, status mate, winner black, time 1499781552803.0\n",
      "Game TcDLUjFy, rated False, turns 22, status resign, winner black, time 1495256575400.0\n",
      "Game jGgYRoq4, rated False, turns 49, status mate, winner white, time 1493538787873.0\n",
      "Game d9gl523x, rated False, turns 7, status mate, winner white, time 1491927531869.0\n",
      "Game MKdZBR5k, rated False, turns 7, status mate, winner white, time 1491927429778.0\n",
      "Game RRqJLTGb, rated False, turns 4, status mate, winner black, time 1491927290515.0\n",
      "Game 1gCJOp33, rated False, turns 18, status mate, winner black, time 1491927011885.0\n",
      "Game kdYuD0G9, rated False, turns 23, status mate, winner white, time 1491926049762.0\n",
      "Game MU4MHjkY, rated False, turns 12, status resign, winner black, time 1491339040178.0\n",
      "Game ZXXVCrPu, rated False, turns 1, status outoftime, winner white, time 1504454450657.0\n",
      "Game rj36zvil, rated False, turns 5, status outoftime, winner white, time 1504448999828.0\n",
      "Game x1Svcl0P, rated False, turns 59, status mate, winner white, time 1499824815307.0\n",
      "Game wgIHzqDo, rated False, turns 113, status mate, winner white, time 1499712437865.0\n",
      "Game QOaqv5Mo, rated False, turns 62, status resign, winner black, time 1499710295032.0\n",
      "Game bU3E7xis, rated False, turns 58, status mate, winner black, time 1499709916900.0\n",
      "Game 3FWl9ibP, rated False, turns 12, status mate, winner black, time 1499709731146.0\n",
      "Game 0bapR1lH, rated False, turns 84, status mate, winner black, time 1499529760683.0\n",
      "Game Gxywco2J, rated False, turns 89, status resign, winner white, time 1493732623842.0\n",
      "Game uIFnZuzp, rated False, turns 109, status resign, winner black, time 1502999037314.0\n",
      "Game 5R4XkFpr, rated False, turns 84, status resign, winner black, time 1502141174486.0\n",
      "Game T3ele42s, rated False, turns 76, status resign, winner black, time 1502140104285.0\n",
      "Game 7YC57ydp, rated False, turns 65, status mate, winner white, time 1502136643529.0\n",
      "Game ier14cqw, rated False, turns 27, status resign, winner white, time 1502136312443.0\n",
      "Game ln5qrFnO, rated False, turns 13, status resign, winner black, time 1502136113121.0\n",
      "Game 9qDsfrFp, rated False, turns 66, status mate, winner black, time 1502135372720.0\n",
      "Game rB8i6Dzx, rated False, turns 79, status resign, winner white, time 1502121791930.0\n",
      "Game DDNH7sFe, rated False, turns 76, status mate, winner black, time 1502051089005.0\n",
      "Game 85vCBUEm, rated False, turns 60, status mate, winner black, time 1492048134202.0\n",
      "Game CEqCXKo5, rated False, turns 50, status resign, winner black, time 1491358269123.0\n",
      "Game IanBEqxF, rated False, turns 37, status resign, winner white, time 1491357930433.0\n",
      "Game ghixmFbh, rated False, turns 76, status resign, winner black, time 1491261796994.0\n",
      "Game C4KNqOlz, rated False, turns 46, status mate, winner black, time 1491260794839.0\n",
      "Game 460bfeoq, rated False, turns 11, status resign, winner white, time 1491260383461.0\n",
      "Game ghuzGpYo, rated False, turns 77, status mate, winner white, time 1490836248847.0\n",
      "Game zyBR4G1i, rated False, turns 20, status resign, winner black, time 1490663983836.0\n",
      "Game vXzBDIeF, rated False, turns 37, status resign, winner white, time 1490658033671.0\n",
      "Game vjG7ATlo, rated False, turns 89, status resign, winner white, time 1490383281396.0\n",
      "Game oCvN8zWL, rated False, turns 17, status draw, winner draw, time 1489541747543.0\n",
      "Game wvpNZ8tu, rated False, turns 30, status resign, winner white, time 1489198897918.0\n",
      "Game fLl6MPKT, rated False, turns 77, status resign, winner white, time 1489198171872.0\n",
      "Game FJZ23eFz, rated False, turns 77, status mate, winner white, time 1501013063857.0\n",
      "Game G80es0ce, rated False, turns 130, status mate, winner black, time 1500856417493.0\n",
      "Game nFHD0KZX, rated False, turns 85, status resign, winner white, time 1500768193383.0\n",
      "Game kIafvCfw, rated False, turns 51, status draw, winner draw, time 1500767304293.0\n",
      "Game rdcnz22q, rated False, turns 53, status mate, winner white, time 1500685339109.0\n",
      "Game 7eW6j0Sw, rated False, turns 36, status resign, winner black, time 1500684803992.0\n",
      "Game INETQlCb, rated False, turns 26, status resign, winner white, time 1500684523342.0\n",
      "Game DDRpPHMy, rated False, turns 52, status resign, winner white, time 1500683547679.0\n",
      "Game 1EtunG7M, rated False, turns 139, status mate, winner white, time 1500596897253.0\n",
      "Game hJL7kYsX, rated False, turns 72, status mate, winner black, time 1500502135473.0\n",
      "Game VxiQ6wrU, rated False, turns 142, status mate, winner black, time 1500500379585.0\n",
      "Game wx7M6nr5, rated False, turns 60, status mate, winner black, time 1495383717711.0\n",
      "Game yRIvgIZX, rated False, turns 23, status resign, winner white, time 1495383624100.0\n",
      "Game Zzhixkcs, rated False, turns 9, status resign, winner white, time 1495377545869.0\n",
      "Game P1GszRib, rated False, turns 43, status mate, winner white, time 1495375765934.0\n",
      "Game bOQfpyOQ, rated False, turns 89, status outoftime, winner white, time 1503967217633.0\n",
      "Game ILmB542I, rated False, turns 67, status draw, winner draw, time 1503966438064.0\n",
      "Game vSbb2kCI, rated False, turns 31, status resign, winner white, time 1503965643413.0\n",
      "Game H9J75q9D, rated False, turns 101, status resign, winner white, time 1503875704660.0\n",
      "Game 0W8BmATc, rated False, turns 37, status outoftime, winner white, time 1503459276365.0\n",
      "Game HY0VcZ2c, rated False, turns 80, status mate, winner black, time 1503373096782.0\n",
      "Game PLYrSuWR, rated False, turns 50, status mate, winner black, time 1486576607432.0\n",
      "Game M1cgACGl, rated False, turns 43, status mate, winner white, time 1486575209686.0\n",
      "Game L2EdSOzt, rated False, turns 43, status mate, winner white, time 1486574753945.0\n",
      "Game gTCNbh3o, rated False, turns 17, status mate, winner white, time 1486574646191.0\n",
      "Game u8spfpAh, rated False, turns 113, status mate, winner white, time 1486573764481.0\n",
      "Game nLm6oKZO, rated False, turns 18, status resign, winner black, time 1486573642727.0\n",
      "Game CXPDNH40, rated False, turns 46, status mate, winner black, time 1486572311960.0\n",
      "Game XehgoTOZ, rated False, turns 23, status mate, winner white, time 1486572091683.0\n",
      "Game 2GvaOkk5, rated False, turns 39, status mate, winner white, time 1486571530589.0\n",
      "Game Dpp2kpwu, rated False, turns 63, status mate, winner white, time 1486548351158.0\n",
      "Game nbFuh8ZW, rated False, turns 126, status outoftime, winner black, time 1504037787143.0\n",
      "Game nA1HiO32, rated False, turns 23, status resign, winner white, time 1501944495064.0\n",
      "Game LYlxdEty, rated False, turns 74, status resign, winner white, time 1504053024764.0\n",
      "Game uNfygRgx, rated False, turns 161, status mate, winner white, time 1504052093191.0\n",
      "Game 6nvIsPDV, rated False, turns 87, status mate, winner white, time 1485802153893.0\n",
      "Game AiJsCNT3, rated False, turns 57, status resign, winner white, time 1485796993267.0\n",
      "Game LmprBKz4, rated False, turns 60, status outoftime, winner black, time 1485663220225.0\n",
      "Game r9ejdbjs, rated False, turns 72, status outoftime, winner black, time 1485658190948.0\n",
      "Game 2Sm5QnMm, rated False, turns 73, status resign, winner white, time 1485651481942.0\n",
      "Game EdJ1mGWu, rated False, turns 27, status mate, winner white, time 1485651122263.0\n",
      "Game LLrbrute, rated False, turns 44, status resign, winner black, time 1485650118525.0\n",
      "Game ISYujqq4, rated False, turns 72, status mate, winner black, time 1485641924934.0\n",
      "Game eXZgZgwi, rated False, turns 113, status mate, winner white, time 1485639392565.0\n",
      "Game 9E1SgFZK, rated False, turns 46, status resign, winner white, time 1485545233746.0\n",
      "Game ZXjwXxCx, rated False, turns 16, status resign, winner white, time 1485545032397.0\n",
      "Game UgQZzgHg, rated False, turns 73, status mate, winner white, time 1485496220029.0\n",
      "Game 1CMrbWII, rated False, turns 106, status draw, winner draw, time 1485490056686.0\n",
      "Game aan0lCgE, rated False, turns 51, status resign, winner white, time 1485486939784.0\n",
      "Game F1gPqpN4, rated False, turns 18, status resign, winner black, time 1485486452127.0\n",
      "Game EG0ljdQk, rated False, turns 95, status outoftime, winner white, time 1485484146462.0\n",
      "Game hjx8FroL, rated False, turns 18, status resign, winner white, time 1485483535065.0\n",
      "Game jtJwv4Nf, rated False, turns 64, status resign, winner black, time 1485482274199.0\n",
      "Game H7E4hWqv, rated False, turns 9, status resign, winner white, time 1485481916938.0\n",
      "Game 9zedLmir, rated False, turns 25, status resign, winner black, time 1485481244038.0\n",
      "Game hbqcztwk, rated False, turns 59, status resign, winner white, time 1485468512289.0\n",
      "Game 7O6Uuh0i, rated False, turns 85, status mate, winner white, time 1485465827784.0\n",
      "Game kPp3lx0a, rated False, turns 30, status resign, winner black, time 1485465017600.0\n",
      "Game 7DgjMvPQ, rated False, turns 15, status mate, winner white, time 1485464690265.0\n",
      "Game ZhXMXZu8, rated False, turns 66, status resign, winner black, time 1485460717570.0\n",
      "Game nvw8PP4G, rated False, turns 38, status mate, winner black, time 1485458930891.0\n",
      "Game 5WaYGUjv, rated False, turns 18, status resign, winner black, time 1485458227405.0\n",
      "Game tiHGrDbt, rated False, turns 81, status mate, winner white, time 1485456411631.0\n",
      "Game 3HObSO6y, rated False, turns 58, status mate, winner black, time 1485414740766.0\n",
      "Game TmBFIrDI, rated False, turns 31, status resign, winner black, time 1485412841690.0\n",
      "Game 9tDl0wdJ, rated False, turns 49, status resign, winner white, time 1485410679960.0\n",
      "Game FoFbRDek, rated False, turns 44, status resign, winner black, time 1485403656282.0\n",
      "Game yEmVT4Ff, rated False, turns 65, status resign, winner white, time 1485400056811.0\n",
      "Game I9DynYXT, rated False, turns 40, status mate, winner black, time 1485389046647.0\n",
      "Game 5lUU79jk, rated False, turns 28, status resign, winner black, time 1485388384350.0\n",
      "Game 5KirX4DB, rated False, turns 56, status mate, winner black, time 1485383616583.0\n",
      "Game 1kJh8jCW, rated False, turns 19, status resign, winner white, time 1485383251080.0\n",
      "Game iih0VufD, rated False, turns 105, status mate, winner white, time 1485379197206.0\n",
      "Game 6fzgRCRH, rated False, turns 40, status mate, winner black, time 1485378662169.0\n",
      "Game 36Q6KvKr, rated False, turns 87, status mate, winner white, time 1497323037997.0\n",
      "Game Wy0JzxHU, rated False, turns 66, status resign, winner white, time 1496861259960.0\n",
      "Game eFgLPMPp, rated False, turns 59, status resign, winner white, time 1496801458115.0\n",
      "Game QycZv63Y, rated False, turns 80, status resign, winner black, time 1496424775426.0\n",
      "Game qt2sbfqA, rated False, turns 66, status mate, winner black, time 1496424005643.0\n",
      "Game ZmQMxHFt, rated False, turns 89, status resign, winner white, time 1496423305526.0\n",
      "Game xyJVLOev, rated False, turns 5, status outoftime, winner white, time 1496421269391.0\n",
      "Game uJLmuxML, rated False, turns 137, status resign, winner white, time 1431012036244.0\n",
      "Game MU3gkeYa, rated False, turns 59, status mate, winner white, time 1431011478487.0\n",
      "Game gONOwpjH, rated False, turns 43, status mate, winner white, time 1463769165266.0\n",
      "Game wrUGowWQ, rated False, turns 109, status outoftime, winner white, time 1489283971093.0\n",
      "Game nHSnrCha, rated False, turns 35, status mate, winner white, time 1487139263865.0\n",
      "Game yzJrB5Ws, rated False, turns 63, status mate, winner white, time 1487138436738.0\n",
      "Game OhQSh8yv, rated False, turns 20, status resign, winner white, time 1486868827096.0\n",
      "Game YkmRYw0j, rated False, turns 59, status mate, winner white, time 1482557675490.0\n",
      "Game 1DngyzrL, rated False, turns 64, status mate, winner black, time 1482557144710.0\n",
      "Game 8K4BUCPt, rated False, turns 70, status mate, winner black, time 1482556211704.0\n",
      "Game uqq57W3V, rated False, turns 136, status outoftime, winner black, time 1502786414553.0\n",
      "Game eBRGiAzm, rated False, turns 74, status resign, winner black, time 1501573609937.0\n",
      "Game VjoCeF7u, rated False, turns 45, status draw, winner draw, time 1501573256794.0\n",
      "Game 2ZN3l5z4, rated False, turns 50, status resign, winner black, time 1501569897355.0\n",
      "Game bK1u2wYn, rated False, turns 95, status resign, winner white, time 1501568947887.0\n",
      "Game PgCQgXoQ, rated False, turns 154, status resign, winner black, time 1501486644973.0\n",
      "Game 6EkLMmU5, rated False, turns 108, status resign, winner black, time 1501485209870.0\n",
      "Game Q5FXOu1K, rated False, turns 118, status outoftime, winner draw, time 1501258953826.0\n",
      "Game BPg0pKCL, rated False, turns 109, status mate, winner white, time 1501257897113.0\n",
      "Game 09fzI0ta, rated False, turns 55, status resign, winner white, time 1500985478268.0\n",
      "Game l6ld8oKZ, rated False, turns 115, status mate, winner white, time 1500984001334.0\n",
      "Game NSklHTPJ, rated False, turns 43, status resign, winner black, time 1500982054856.0\n",
      "Game n2xDm4uq, rated False, turns 100, status mate, winner black, time 1500904422478.0\n",
      "Game 5iRRxP6f, rated False, turns 39, status resign, winner white, time 1500887022381.0\n",
      "Game GWyebKUp, rated False, turns 36, status resign, winner black, time 1500886801723.0\n",
      "Game UAyNP5uD, rated False, turns 10, status resign, winner black, time 1500885295871.0\n",
      "Game FUtKNNSf, rated False, turns 59, status mate, winner white, time 1500640734218.0\n",
      "Game 0vSN6TVh, rated False, turns 92, status resign, winner black, time 1500570001560.0\n",
      "Game TJeQKTDp, rated False, turns 210, status mate, winner black, time 1500566403587.0\n",
      "Game z8ilhy4G, rated False, turns 83, status mate, winner white, time 1500557976407.0\n",
      "Game JVV78yDG, rated False, turns 29, status outoftime, winner white, time 1500555141841.0\n",
      "Game ZOQ2DVKU, rated False, turns 120, status mate, winner black, time 1500549020371.0\n",
      "Game V5qVe62M, rated False, turns 147, status mate, winner white, time 1500442582797.0\n",
      "Game SFhda91Z, rated False, turns 45, status mate, winner white, time 1500399781583.0\n",
      "Game nSvKFzXI, rated False, turns 63, status draw, winner draw, time 1500387552822.0\n",
      "Game Wk7jfbfU, rated False, turns 71, status resign, winner white, time 1500383672388.0\n",
      "Game dVmZHywv, rated False, turns 116, status mate, winner black, time 1500294188608.0\n",
      "Game nKlIr6Zd, rated False, turns 40, status resign, winner black, time 1500293659058.0\n",
      "Game CqTeVNC1, rated False, turns 73, status outoftime, winner white, time 1500035940965.0\n",
      "Game YgTzTknz, rated False, turns 107, status draw, winner draw, time 1499960420905.0\n",
      "Game t4d1mz2n, rated False, turns 2, status resign, winner white, time 1499952813046.0\n",
      "Game lNZODk1a, rated False, turns 72, status mate, winner black, time 1499937439565.0\n",
      "Game 7ryxiVbT, rated False, turns 42, status mate, winner black, time 1462414649694.0\n",
      "Game poPPti6P, rated False, turns 35, status mate, winner white, time 1462413991469.0\n",
      "Game 6MNtakFw, rated False, turns 44, status mate, winner black, time 1462413544249.0\n",
      "Game AiPXVhdm, rated False, turns 41, status mate, winner white, time 1462413012674.0\n",
      "Game Rz20eEWW, rated False, turns 57, status resign, winner white, time 1462356327971.0\n",
      "Game IjjIfviR, rated False, turns 48, status mate, winner black, time 1462327702494.0\n",
      "Game e99Zvuey, rated False, turns 39, status mate, winner white, time 1462327295644.0\n",
      "Game dc2KJCrf, rated False, turns 32, status mate, winner black, time 1462326875867.0\n",
      "Game nYDvnb2F, rated False, turns 19, status mate, winner white, time 1462235284434.0\n",
      "Game xtHtOgFj, rated False, turns 35, status mate, winner white, time 1462234380068.0\n",
      "Game 2O8oQ5Go, rated False, turns 32, status mate, winner black, time 1462233815498.0\n",
      "Game n8KxiJs5, rated False, turns 9, status mate, winner white, time 1462233718019.0\n",
      "Game cWXIPeXf, rated False, turns 62, status mate, winner black, time 1504365420172.0\n",
      "Game XxkHBPg8, rated False, turns 46, status mate, winner black, time 1498992033287.0\n",
      "Game Xxjp58Do, rated False, turns 51, status outoftime, winner white, time 1498991181760.0\n",
      "Game BPPgcne1, rated False, turns 32, status resign, winner black, time 1498990638964.0\n",
      "Game ZjMwWVg6, rated False, turns 62, status mate, winner black, time 1498989833971.0\n",
      "Game HqBCoJ2T, rated False, turns 120, status outoftime, winner black, time 1496929090877.0\n",
      "Game XupT1E8y, rated False, turns 49, status mate, winner white, time 1496927881996.0\n",
      "Game 6BM2RU3Z, rated False, turns 77, status outoftime, winner white, time 1496898649195.0\n",
      "Game ySHPH3Ei, rated False, turns 35, status mate, winner white, time 1484633433286.0\n",
      "Game qB2ZfXdc, rated False, turns 14, status resign, winner black, time 1484632478469.0\n",
      "Game IJWoYURf, rated False, turns 11, status resign, winner white, time 1483514699774.0\n",
      "Game RqipqrWP, rated False, turns 91, status resign, winner white, time 1483505240229.0\n",
      "Game Tb1RQESE, rated False, turns 62, status mate, winner black, time 1483434482269.0\n",
      "Game pDoxtPqR, rated False, turns 25, status mate, winner white, time 1483433386454.0\n",
      "Game XpPCJ7af, rated False, turns 47, status outoftime, winner white, time 1483366478253.0\n",
      "Game AbKopmxf, rated False, turns 58, status resign, winner black, time 1481547993854.0\n",
      "Game ysIA8qk1, rated False, turns 55, status resign, winner white, time 1481472168149.0\n",
      "Game yNLwbz9R, rated False, turns 38, status mate, winner black, time 1481471150097.0\n",
      "Game cbUTIecY, rated False, turns 43, status resign, winner white, time 1481468114152.0\n",
      "Game oQ4Kc4Co, rated False, turns 50, status resign, winner black, time 1481085997855.0\n",
      "Game cH4Rzc3B, rated False, turns 57, status outoftime, winner white, time 1467593740282.0\n",
      "Game iBX5kpPy, rated False, turns 69, status outoftime, winner white, time 1466930428370.0\n",
      "Game 98KTgF4d, rated False, turns 90, status mate, winner black, time 1465891601668.0\n",
      "Game nEMXjw0O, rated False, turns 173, status mate, winner white, time 1465888065647.0\n",
      "Game pO3jCDBc, rated False, turns 43, status resign, winner white, time 1465887716182.0\n",
      "Game NZFJa3EF, rated False, turns 66, status mate, winner black, time 1465275782593.0\n",
      "Game 8Bq7xzPR, rated False, turns 103, status mate, winner white, time 1465187905820.0\n",
      "Game Y0qx9hX5, rated False, turns 40, status resign, winner black, time 1465186773397.0\n",
      "Game SH4pFiWX, rated False, turns 90, status resign, winner black, time 1465184908183.0\n",
      "Game 2O3IhLSe, rated False, turns 107, status mate, winner white, time 1465095682459.0\n",
      "Game BbkrzzQC, rated False, turns 34, status resign, winner white, time 1465006238146.0\n",
      "Game AoKFkLfR, rated False, turns 126, status resign, winner black, time 1464902782461.0\n",
      "Game d8qTwQrj, rated False, turns 108, status outoftime, winner black, time 1464840660632.0\n",
      "Game WbTSc5pg, rated False, turns 100, status mate, winner black, time 1464839554230.0\n",
      "Game 77iblRwJ, rated False, turns 64, status mate, winner black, time 1464723666178.0\n",
      "Game MMYhHm45, rated False, turns 66, status outoftime, winner black, time 1464649138671.0\n",
      "Game OCjlTny0, rated False, turns 45, status resign, winner white, time 1464648803880.0\n",
      "Game C22vaSXz, rated False, turns 46, status resign, winner white, time 1491955089463.0\n",
      "Game 07e0uVvn, rated False, turns 35, status mate, winner white, time 1491954571642.0\n",
      "Game iN5CqVJ3, rated False, turns 40, status outoftime, winner black, time 1490716302310.0\n",
      "Game Tok2vKal, rated False, turns 8, status resign, winner black, time 1481655921948.0\n",
      "Game rmDj4gjo, rated False, turns 53, status resign, winner white, time 1481646803062.0\n",
      "Game p76lMTfX, rated False, turns 120, status resign, winner black, time 1481142908259.0\n",
      "Game D5kfoLZJ, rated False, turns 73, status resign, winner black, time 1481063985776.0\n",
      "Game t2ZNIqfk, rated False, turns 22, status draw, winner draw, time 1481040287361.0\n",
      "Game 0mfWSiUM, rated False, turns 66, status outoftime, winner black, time 1480976787259.0\n",
      "Game UjCzWJU3, rated False, turns 85, status resign, winner white, time 1480787858227.0\n",
      "Game x4UyTkSZ, rated False, turns 30, status mate, winner black, time 1480787349374.0\n",
      "Game ksAc8JEj, rated False, turns 49, status mate, winner white, time 1480786449642.0\n",
      "Game Yw7eiqer, rated False, turns 70, status resign, winner black, time 1480785694299.0\n",
      "Game qvu3TRRM, rated False, turns 19, status draw, winner draw, time 1480716660739.0\n",
      "Game ojSosVNy, rated False, turns 80, status mate, winner black, time 1480715516667.0\n",
      "Game dahRixi6, rated False, turns 76, status mate, winner black, time 1448924332670.0\n",
      "Game Wg7MuSLY, rated False, turns 72, status resign, winner black, time 1504206101035.0\n",
      "Game bGiGLLkt, rated False, turns 104, status mate, winner black, time 1504462394439.0\n",
      "Game qUetu3Fa, rated False, turns 33, status resign, winner white, time 1504461524016.0\n",
      "Game LmAF9EOQ, rated False, turns 64, status mate, winner black, time 1504461448602.0\n",
      "Game ZWXisimD, rated False, turns 62, status outoftime, winner black, time 1504431197149.0\n",
      "Game VW8jn694, rated False, turns 47, status mate, winner white, time 1504430279512.0\n",
      "Game VCm6Y9sa, rated False, turns 30, status resign, winner white, time 1504429928401.0\n",
      "Game JfT9yIBl, rated False, turns 24, status resign, winner white, time 1504429201572.0\n",
      "Game 1GJI8zgp, rated False, turns 20, status resign, winner white, time 1504427586244.0\n",
      "Game 1vZFGZU4, rated False, turns 66, status resign, winner black, time 1504413960930.0\n",
      "Game orGL4RMu, rated False, turns 12, status outoftime, winner black, time 1504372513828.0\n",
      "Game 5ORW5WNC, rated False, turns 63, status resign, winner black, time 1504371280241.0\n",
      "Game Bys3Uii4, rated False, turns 82, status resign, winner white, time 1504344874055.0\n",
      "Game 6XdCEkkJ, rated False, turns 87, status resign, winner white, time 1504343009286.0\n",
      "Game VCvbNgko, rated False, turns 19, status resign, winner white, time 1504285732667.0\n",
      "Game kvaVGWlk, rated False, turns 59, status mate, winner white, time 1504284848365.0\n",
      "Game 0gTDO6Av, rated False, turns 124, status mate, winner black, time 1504198922993.0\n",
      "Game t7vvcwqO, rated False, turns 96, status resign, winner black, time 1504181665319.0\n",
      "Game igSDFKv0, rated False, turns 53, status outoftime, winner white, time 1504180449600.0\n",
      "Game facMwkUo, rated False, turns 39, status mate, winner white, time 1504083171659.0\n",
      "Game j5KY62yS, rated False, turns 10, status mate, winner black, time 1504083112308.0\n",
      "Game nyYULwUl, rated False, turns 51, status mate, winner white, time 1504082518342.0\n",
      "Game h0YsGMhj, rated False, turns 18, status resign, winner black, time 1503807038654.0\n",
      "Game o4T7dj5h, rated False, turns 106, status mate, winner black, time 1503795853806.0\n",
      "Game VgNt0SSX, rated False, turns 38, status mate, winner black, time 1503768500121.0\n",
      "Game UvqLtnPM, rated False, turns 59, status mate, winner white, time 1503755643214.0\n",
      "Game 1b0kpInt, rated False, turns 111, status mate, winner white, time 1503752054196.0\n",
      "Game dJEtAQp7, rated False, turns 28, status resign, winner black, time 1503751732571.0\n",
      "Game ZPHBiKBY, rated False, turns 101, status outoftime, winner white, time 1503740797460.0\n",
      "Game I8odmGjb, rated False, turns 15, status mate, winner white, time 1503740530640.0\n",
      "Game DijZlfMy, rated False, turns 42, status resign, winner white, time 1503740087949.0\n",
      "Game LyRqbD4d, rated False, turns 118, status resign, winner black, time 1503739469142.0\n",
      "Game CvakmVNb, rated False, turns 34, status resign, winner black, time 1503739135570.0\n",
      "Game O037dETy, rated False, turns 60, status resign, winner black, time 1503738724395.0\n",
      "Game CxQlHSnq, rated False, turns 66, status resign, winner black, time 1503738125073.0\n",
      "Game Q0jogkvi, rated False, turns 21, status outoftime, winner white, time 1503680241171.0\n",
      "Game QurxyQkA, rated False, turns 73, status mate, winner white, time 1503665646861.0\n",
      "Game mJ9VpdxV, rated False, turns 159, status mate, winner white, time 1503663679072.0\n",
      "Game edYOVb5F, rated False, turns 74, status resign, winner white, time 1503596658177.0\n",
      "Game GstYv2mJ, rated False, turns 28, status mate, winner black, time 1503596247806.0\n",
      "Game dFQ5D7CS, rated False, turns 112, status mate, winner black, time 1503581249033.0\n",
      "Game DszY6Pr4, rated False, turns 33, status resign, winner black, time 1503446009866.0\n",
      "Game FhJcOzZW, rated False, turns 29, status resign, winner black, time 1503440451592.0\n",
      "Game kKFslhlg, rated False, turns 55, status resign, winner black, time 1503439778384.0\n",
      "Game VVkKGe4E, rated False, turns 91, status resign, winner white, time 1503275918038.0\n",
      "Game 11VaOez1, rated False, turns 53, status resign, winner white, time 1503275463252.0\n",
      "Game 2akR3Bit, rated False, turns 49, status mate, winner white, time 1503256880384.0\n",
      "Game mG2dEz4z, rated False, turns 48, status mate, winner black, time 1503255517375.0\n",
      "Game xrZnbIGD, rated False, turns 20, status resign, winner black, time 1503255225725.0\n",
      "Game lOU3lddA, rated False, turns 87, status mate, winner white, time 1503250133331.0\n",
      "Game xYEVgk0W, rated False, turns 11, status resign, winner white, time 1503249886356.0\n",
      "Game QnXuc72h, rated False, turns 110, status draw, winner draw, time 1503110672169.0\n",
      "Game ejaSwZEr, rated False, turns 24, status resign, winner white, time 1503110452118.0\n",
      "Game 3ZfA3gFa, rated False, turns 23, status resign, winner white, time 1503104329359.0\n",
      "Game WoOqoYEL, rated False, turns 81, status mate, winner white, time 1503018442459.0\n",
      "Game EgoW2NiE, rated False, turns 34, status resign, winner black, time 1503017502914.0\n",
      "Game ZctgRAt4, rated False, turns 103, status mate, winner white, time 1503013024387.0\n",
      "Game VuZ0dzhO, rated False, turns 29, status resign, winner black, time 1503012382632.0\n",
      "Game 1cvi4Z6K, rated False, turns 22, status resign, winner black, time 1502923278916.0\n",
      "Game E83xJFBo, rated False, turns 38, status resign, winner white, time 1502922642787.0\n",
      "Game hVSNfLer, rated False, turns 46, status mate, winner black, time 1502847136007.0\n",
      "Game XyM6zTew, rated False, turns 23, status outoftime, winner white, time 1502846253360.0\n",
      "Game 5sEcA5zs, rated False, turns 31, status resign, winner white, time 1502843201217.0\n",
      "Game wXnKMk3N, rated False, turns 51, status resign, winner white, time 1502741837650.0\n",
      "Game YPVYpEvm, rated False, turns 87, status mate, winner white, time 1502735207087.0\n",
      "Game rth667hB, rated False, turns 31, status mate, winner white, time 1502728611430.0\n",
      "Game rb7lq7dT, rated False, turns 38, status resign, winner black, time 1502723472968.0\n",
      "Game hxMTrlzW, rated False, turns 43, status resign, winner white, time 1502679821380.0\n",
      "Game hfNJtVnd, rated False, turns 105, status resign, winner white, time 1502653991546.0\n",
      "Game Mynfr537, rated False, turns 2, status resign, winner white, time 1504436942577.0\n",
      "Game EV19oJdE, rated False, turns 25, status resign, winner black, time 1504435065696.0\n",
      "Game DyXVmsGr, rated False, turns 22, status resign, winner white, time 1504353339368.0\n",
      "Game kKhmGgkh, rated False, turns 57, status mate, winner white, time 1504455568943.0\n",
      "Game WiLRYEgT, rated False, turns 100, status draw, winner draw, time 1504446969568.0\n",
      "Game RL9ZdQO3, rated False, turns 23, status resign, winner white, time 1504443523734.0\n",
      "Game CIUu7318, rated False, turns 31, status resign, winner black, time 1504443296509.0\n",
      "Game 7SDFM8wY, rated False, turns 7, status resign, winner white, time 1504443272214.0\n",
      "Game KBG3ijIf, rated False, turns 6, status resign, winner black, time 1504443173551.0\n",
      "Game XedVZ3HB, rated False, turns 26, status resign, winner black, time 1504442822807.0\n",
      "Game GSeyt4C8, rated False, turns 16, status resign, winner black, time 1504442701086.0\n",
      "Game GEZZDaWj, rated False, turns 14, status resign, winner black, time 1504442620056.0\n",
      "Game 2noWkIb8, rated False, turns 78, status draw, winner draw, time 1504373163097.0\n",
      "Game m5AyQ1qS, rated False, turns 4, status resign, winner white, time 1504366072346.0\n",
      "Game h1EtGGgN, rated False, turns 85, status resign, winner white, time 1504355602086.0\n",
      "Game ZFjv8xKj, rated False, turns 7, status draw, winner draw, time 1504355535399.0\n",
      "Game WMtKPrKP, rated False, turns 44, status resign, winner black, time 1504354498277.0\n",
      "Game L18vqYGs, rated False, turns 61, status mate, winner white, time 1504327344056.0\n",
      "Game Ck1Xp2MO, rated False, turns 47, status resign, winner black, time 1504327005467.0\n",
      "Game vTOSDGgh, rated False, turns 27, status outoftime, winner white, time 1504281197066.0\n",
      "Game Nc6OVdnO, rated False, turns 36, status resign, winner white, time 1504277859366.0\n",
      "Game eOo0fDQ6, rated False, turns 92, status resign, winner black, time 1504275840947.0\n",
      "Game JkEcyA3P, rated False, turns 46, status resign, winner black, time 1502105054518.0\n",
      "Game dPDLm9hu, rated False, turns 21, status outoftime, winner white, time 1501936897644.0\n",
      "Game XdZUH3wS, rated False, turns 58, status outoftime, winner black, time 1501934865679.0\n",
      "Game AbL4qbvl, rated False, turns 38, status outoftime, winner black, time 1500820625902.0\n",
      "Game TmYoZ2Mr, rated False, turns 72, status mate, winner black, time 1500772200734.0\n",
      "Game uhxTJwPQ, rated False, turns 68, status draw, winner draw, time 1500771282103.0\n",
      "Game pCRElg8p, rated False, turns 132, status mate, winner black, time 1500769982292.0\n",
      "Game wxX0bHAT, rated False, turns 22, status resign, winner white, time 1500769658976.0\n",
      "Game 6ee1MEvP, rated False, turns 56, status resign, winner black, time 1500769063564.0\n",
      "Game zxCdZkPq, rated False, turns 85, status mate, winner white, time 1500738072019.0\n",
      "Game hVtDBDkG, rated False, turns 44, status resign, winner black, time 1500736498143.0\n",
      "Game b59NpQuW, rated False, turns 80, status outoftime, winner black, time 1500718106330.0\n",
      "Game OHVh1oko, rated False, turns 43, status resign, winner white, time 1500717615473.0\n",
      "Game lmk7lokQ, rated False, turns 98, status mate, winner black, time 1500715650078.0\n",
      "Game 34BzwAwa, rated False, turns 43, status mate, winner white, time 1500714808127.0\n",
      "Game neB5oibq, rated False, turns 57, status draw, winner draw, time 1500713983593.0\n",
      "Game 63PiJLzL, rated False, turns 70, status mate, winner black, time 1500709444404.0\n",
      "Game XKAotDZv, rated False, turns 49, status resign, winner white, time 1500708475375.0\n",
      "Game Xm7neWCT, rated False, turns 107, status resign, winner white, time 1500697418269.0\n",
      "Game 2KGzYnb8, rated False, turns 52, status mate, winner black, time 1500696785356.0\n",
      "Game ZWLHvQT9, rated False, turns 39, status resign, winner white, time 1500696241726.0\n",
      "Game IsrvOLZO, rated False, turns 30, status resign, winner black, time 1503912389611.0\n",
      "Game yg3YRYbI, rated False, turns 51, status resign, winner white, time 1503845427126.0\n",
      "Game RSWn3dym, rated False, turns 77, status resign, winner white, time 1504109904617.0\n",
      "Game 9A1dfrVB, rated False, turns 57, status resign, winner white, time 1503334975230.0\n",
      "Game YZO402Ei, rated False, turns 120, status outoftime, winner black, time 1503946652765.0\n",
      "Game 3cIFrSEh, rated False, turns 48, status mate, winner black, time 1504001066841.0\n",
      "Game M2ZlvyYy, rated False, turns 71, status resign, winner white, time 1503594124401.0\n",
      "Game d9X08Sof, rated False, turns 103, status draw, winner draw, time 1504209637919.0\n",
      "Game Svkerj5v, rated False, turns 109, status draw, winner draw, time 1503257446528.0\n",
      "Game A1BExYwf, rated False, turns 92, status resign, winner black, time 1502312819452.0\n",
      "Game vs4N1BEg, rated False, turns 77, status resign, winner white, time 1502222493045.0\n",
      "Game xT3Qgs0d, rated False, turns 76, status resign, winner black, time 1502048929539.0\n",
      "Game S7dwSbNm, rated False, turns 22, status resign, winner white, time 1501952600882.0\n",
      "Game 58iZoULg, rated False, turns 62, status resign, winner black, time 1501783371476.0\n",
      "Game lN9aZvfM, rated False, turns 70, status resign, winner black, time 1500956517565.0\n",
      "Game gptZOHi9, rated False, turns 63, status draw, winner draw, time 1500156122215.0\n",
      "Game UrvIXmIz, rated False, turns 58, status resign, winner black, time 1500133391845.0\n",
      "Game Uk0pZCRR, rated False, turns 95, status resign, winner black, time 1499531997974.0\n",
      "Game ZhZm1ol9, rated False, turns 109, status draw, winner draw, time 1498871255686.0\n",
      "Game fpqjttDx, rated False, turns 42, status resign, winner black, time 1497662989960.0\n",
      "Game lzPgCJCS, rated False, turns 102, status resign, winner black, time 1497659508784.0\n",
      "Game p391pBJv, rated False, turns 97, status resign, winner white, time 1497646812518.0\n"
     ]
    }
   ],
   "source": [
    "numDups = 0\n",
    "allGames = defaultdict(int)\n",
    "for g in games:\n",
    "    allGames[g.id] += 1\n",
    "    if allGames[g.id] > 1:\n",
    "        numDups += 1\n",
    "        print(g)"
   ]
  },
  {
   "cell_type": "code",
   "execution_count": 41,
   "metadata": {},
   "outputs": [
    {
     "data": {
      "text/plain": [
       "19113"
      ]
     },
     "execution_count": 41,
     "metadata": {},
     "output_type": "execute_result"
    }
   ],
   "source": [
    "len(allGames)"
   ]
  },
  {
   "cell_type": "code",
   "execution_count": 42,
   "metadata": {},
   "outputs": [
    {
     "data": {
      "text/plain": [
       "20058"
      ]
     },
     "execution_count": 42,
     "metadata": {},
     "output_type": "execute_result"
    }
   ],
   "source": [
    "numDups + len(uniqGames)"
   ]
  },
  {
   "cell_type": "code",
   "execution_count": 15,
   "metadata": {},
   "outputs": [],
   "source": [
    "idRepeat = ''\n",
    "for i,num in allGames.items():\n",
    "    if num > 2:\n",
    "        idRepeat = i\n",
    "        break"
   ]
  },
  {
   "cell_type": "code",
   "execution_count": 43,
   "metadata": {},
   "outputs": [],
   "source": [
    "idRepeat = 'eP09Yv7W'"
   ]
  },
  {
   "cell_type": "code",
   "execution_count": 25,
   "metadata": {},
   "outputs": [
    {
     "data": {
      "text/plain": [
       "20058"
      ]
     },
     "execution_count": 25,
     "metadata": {},
     "output_type": "execute_result"
    }
   ],
   "source": [
    "len(games)"
   ]
  },
  {
   "cell_type": "code",
   "execution_count": 44,
   "metadata": {},
   "outputs": [
    {
     "name": "stdout",
     "output_type": "stream",
     "text": [
      "Game eP09Yv7W, rated False, turns 4, status mate, winner black, time 1500090000000.0\n",
      "Game eP09Yv7W, rated False, turns 4, status mate, winner black, time 1500085220607.0\n",
      "Game eP09Yv7W, rated False, turns 4, status mate, winner black, time 1500085220607.0\n"
     ]
    }
   ],
   "source": [
    "for g in games:\n",
    "    if g.id == idRepeat: print(g)"
   ]
  },
  {
   "cell_type": "code",
   "execution_count": 9,
   "metadata": {},
   "outputs": [
    {
     "data": {
      "text/plain": [
       "19113"
      ]
     },
     "execution_count": 9,
     "metadata": {},
     "output_type": "execute_result"
    }
   ],
   "source": [
    "len(uniqGames)"
   ]
  },
  {
   "cell_type": "code",
   "execution_count": 39,
   "metadata": {},
   "outputs": [
    {
     "data": {
      "text/plain": [
       "20058"
      ]
     },
     "execution_count": 39,
     "metadata": {},
     "output_type": "execute_result"
    }
   ],
   "source": [
    "sum(1 for _ in ParseCsv('data/games.csv'))"
   ]
  },
  {
   "cell_type": "code",
   "execution_count": 40,
   "metadata": {},
   "outputs": [],
   "source": [
    "whiteUsers = set(l[8] for l in ParseCsv('data/games.csv'))"
   ]
  },
  {
   "cell_type": "code",
   "execution_count": 42,
   "metadata": {},
   "outputs": [],
   "source": [
    "blackUsers = set(l[10] for l in ParseCsv('data/games.csv'))"
   ]
  },
  {
   "cell_type": "code",
   "execution_count": 41,
   "metadata": {},
   "outputs": [
    {
     "data": {
      "text/plain": [
       "9438"
      ]
     },
     "execution_count": 41,
     "metadata": {},
     "output_type": "execute_result"
    }
   ],
   "source": [
    "len(whiteUsers)"
   ]
  },
  {
   "cell_type": "code",
   "execution_count": 43,
   "metadata": {},
   "outputs": [
    {
     "data": {
      "text/plain": [
       "9331"
      ]
     },
     "execution_count": 43,
     "metadata": {},
     "output_type": "execute_result"
    }
   ],
   "source": [
    "len(blackUsers)"
   ]
  },
  {
   "cell_type": "code",
   "execution_count": 46,
   "metadata": {},
   "outputs": [
    {
     "data": {
      "text/plain": [
       "15635"
      ]
     },
     "execution_count": 46,
     "metadata": {},
     "output_type": "execute_result"
    }
   ],
   "source": [
    "len(whiteUsers.union(blackUsers))"
   ]
  },
  {
   "cell_type": "markdown",
   "metadata": {},
   "source": [
    "### In the dataset there are 20,058 games with 15,635 unique players."
   ]
  },
  {
   "cell_type": "markdown",
   "metadata": {},
   "source": [
    "### 2. Identify a predictive task that can be studied on this dataset. Describe how you will evaluate your model at this predictive task, what relevant baselines can be used for comparison, and how you will assess the validity of your model’s predictions. It’s fine to use models that were described in class here (i.e., you don’t have to invent anything new (though you may!)), though you should explain and justify which model was appropriate for the task. It’s also important in this section to carefully describe what features you will use and how you had to process the data to obtain them."
   ]
  },
  {
   "cell_type": "code",
   "execution_count": 39,
   "metadata": {},
   "outputs": [],
   "source": [
    "def BaselineWinner(g):\n",
    "    return 'white' if g.white_rating >= g.black_rating else 'black'"
   ]
  },
  {
   "cell_type": "code",
   "execution_count": null,
   "metadata": {},
   "outputs": [],
   "source": []
  },
  {
   "cell_type": "code",
   "execution_count": 41,
   "metadata": {},
   "outputs": [],
   "source": [
    "blitzes = defaultdict(int)\n",
    "rapids = defaultdict(int)\n",
    "classicals = defaultdict(int)\n",
    "for g in games:\n",
    "    if g.game_type == 'BLITZ': blitzes[g.victory_status] += 1\n",
    "    elif g.game_type == 'RAPID': rapids[g.victory_status] += 1\n",
    "    elif g.game_type == 'CLASSICAL': classicals[g.victory_status] += 1"
   ]
  },
  {
   "cell_type": "code",
   "execution_count": 42,
   "metadata": {},
   "outputs": [
    {
     "data": {
      "text/plain": [
       "defaultdict(int, {'mate': 1254, 'outoftime': 419, 'resign': 2222})"
      ]
     },
     "execution_count": 42,
     "metadata": {},
     "output_type": "execute_result"
    }
   ],
   "source": [
    "blitzes"
   ]
  },
  {
   "cell_type": "code",
   "execution_count": 43,
   "metadata": {},
   "outputs": [
    {
     "data": {
      "text/plain": [
       "defaultdict(int, {'mate': 3035, 'outoftime': 855, 'resign': 5155})"
      ]
     },
     "execution_count": 43,
     "metadata": {},
     "output_type": "execute_result"
    }
   ],
   "source": [
    "rapids"
   ]
  },
  {
   "cell_type": "code",
   "execution_count": 44,
   "metadata": {},
   "outputs": [
    {
     "data": {
      "text/plain": [
       "defaultdict(int, {'mate': 2036, 'outoftime': 362, 'resign': 3770})"
      ]
     },
     "execution_count": 44,
     "metadata": {},
     "output_type": "execute_result"
    }
   ],
   "source": [
    "classicals"
   ]
  },
  {
   "cell_type": "code",
   "execution_count": 45,
   "metadata": {},
   "outputs": [],
   "source": [
    "def BaselineStatus(g):\n",
    "    '''\n",
    "    if g.game_type == 'BLITZ': return 'outoftime'\n",
    "    elif g.game_type == 'RAPID': return 'mate'\n",
    "    elif g.game_type == 'CLASSICAL': return 'resign'\n",
    "    '''\n",
    "    return 'resign'"
   ]
  },
  {
   "cell_type": "code",
   "execution_count": 46,
   "metadata": {},
   "outputs": [],
   "source": [
    "nBRight, nBTotal = 0, len(games)\n",
    "for g in games:\n",
    "    if g.victory_status == 'resign': nBRight += 1"
   ]
  },
  {
   "cell_type": "code",
   "execution_count": 47,
   "metadata": {},
   "outputs": [
    {
     "data": {
      "text/plain": [
       "0.5833682227339334"
      ]
     },
     "execution_count": 47,
     "metadata": {},
     "output_type": "execute_result"
    }
   ],
   "source": [
    "nBRight / nBTotal"
   ]
  },
  {
   "cell_type": "code",
   "execution_count": 120,
   "metadata": {},
   "outputs": [],
   "source": [
    "nDraws = sum(1 for g in games if g.winner == 'draw')"
   ]
  },
  {
   "cell_type": "code",
   "execution_count": 121,
   "metadata": {},
   "outputs": [
    {
     "data": {
      "text/plain": [
       "950"
      ]
     },
     "execution_count": 121,
     "metadata": {},
     "output_type": "execute_result"
    }
   ],
   "source": [
    "nDraws"
   ]
  },
  {
   "cell_type": "code",
   "execution_count": 122,
   "metadata": {},
   "outputs": [],
   "source": [
    "nDrawsRated = sum(1 for g in games if g.winner == 'draw' and g.rated)"
   ]
  },
  {
   "cell_type": "code",
   "execution_count": 123,
   "metadata": {},
   "outputs": [],
   "source": [
    "nDrawsUnrated = sum(1 for g in games if g.winner == 'draw' and not g.rated)"
   ]
  },
  {
   "cell_type": "code",
   "execution_count": 124,
   "metadata": {},
   "outputs": [
    {
     "data": {
      "text/plain": [
       "(317, 633)"
      ]
     },
     "execution_count": 124,
     "metadata": {},
     "output_type": "execute_result"
    }
   ],
   "source": [
    "nDrawsRated, nDrawsUnrated"
   ]
  },
  {
   "cell_type": "code",
   "execution_count": 134,
   "metadata": {},
   "outputs": [],
   "source": [
    "nRated = sum(1 for g in games if g.rated and g.winner != 'draw')"
   ]
  },
  {
   "cell_type": "code",
   "execution_count": 135,
   "metadata": {},
   "outputs": [],
   "source": [
    "nUnrated = sum(1 for g in games if not g.rated and g.winner != 'draw')"
   ]
  },
  {
   "cell_type": "code",
   "execution_count": 126,
   "metadata": {},
   "outputs": [
    {
     "data": {
      "text/plain": [
       "7432"
      ]
     },
     "execution_count": 126,
     "metadata": {},
     "output_type": "execute_result"
    }
   ],
   "source": [
    "nRated"
   ]
  },
  {
   "cell_type": "code",
   "execution_count": 197,
   "metadata": {},
   "outputs": [],
   "source": [
    "nBulletRight, nBulletTotal = 0, sum(1 for g in games if g.game_type == 'BULLET')\n",
    "for g in games:\n",
    "    if g.game_type != 'BULLET': continue\n",
    "    winner = 'white' if g.white_rating >= g.black_rating else 'black'\n",
    "    if g.winner == winner: nBulletRight += 1"
   ]
  },
  {
   "cell_type": "code",
   "execution_count": 198,
   "metadata": {},
   "outputs": [
    {
     "data": {
      "text/plain": [
       "0.6456692913385826"
      ]
     },
     "execution_count": 198,
     "metadata": {},
     "output_type": "execute_result"
    }
   ],
   "source": [
    "nBulletRight / nBulletTotal"
   ]
  },
  {
   "cell_type": "code",
   "execution_count": null,
   "metadata": {},
   "outputs": [],
   "source": [
    "nBlitzRight, nBlitzTotal = 0, sum(1 for g in games if g.game_type == 'BULLET')\n",
    "for g in games:\n",
    "    if g.game_type != 'BULLET': continue\n",
    "    winner = 'white' if g.white_rating >= g.black_rating else 'black'\n",
    "    if g.winner == winner: nBlitzRight += 1"
   ]
  },
  {
   "cell_type": "code",
   "execution_count": 12,
   "metadata": {},
   "outputs": [],
   "source": [
    "def BaselineAccuracy(l):\n",
    "    nRight, nTotal = 0, sum(1 for g in games if l(g))\n",
    "    for g in games:\n",
    "        if not l(g): continue\n",
    "        winner = 'white' if g.white_rating >= g.black_rating else 'black'\n",
    "        if g.winner == winner: nRight += 1\n",
    "    return 0.0 if nRight == 0 else nRight / nTotal"
   ]
  },
  {
   "cell_type": "code",
   "execution_count": 223,
   "metadata": {},
   "outputs": [
    {
     "data": {
      "text/plain": [
       "0.6598202824133504"
      ]
     },
     "execution_count": 223,
     "metadata": {},
     "output_type": "execute_result"
    }
   ],
   "source": [
    "BaselineAccuracy(lambda x : x.game_type == 'BLITZ')"
   ]
  },
  {
   "cell_type": "code",
   "execution_count": 224,
   "metadata": {},
   "outputs": [
    {
     "data": {
      "text/plain": [
       "0.6490878938640132"
      ]
     },
     "execution_count": 224,
     "metadata": {},
     "output_type": "execute_result"
    }
   ],
   "source": [
    "BaselineAccuracy(lambda x : x.game_type == 'RAPID')"
   ]
  },
  {
   "cell_type": "code",
   "execution_count": 225,
   "metadata": {},
   "outputs": [
    {
     "data": {
      "text/plain": [
       "0.6494811932555123"
      ]
     },
     "execution_count": 225,
     "metadata": {},
     "output_type": "execute_result"
    }
   ],
   "source": [
    "BaselineAccuracy(lambda x : x.game_type == 'CLASSICAL')"
   ]
  },
  {
   "cell_type": "code",
   "execution_count": 229,
   "metadata": {},
   "outputs": [
    {
     "data": {
      "text/plain": [
       "0.6464719753310357"
      ]
     },
     "execution_count": 229,
     "metadata": {},
     "output_type": "execute_result"
    }
   ],
   "source": [
    "BaselineAccuracy(lambda x : x.game_type == 'CLASSICAL' and not x.rated)"
   ]
  },
  {
   "cell_type": "code",
   "execution_count": 207,
   "metadata": {},
   "outputs": [],
   "source": [
    "nBullet = sum(1 for g in games if g.game_type == 'BULLET')"
   ]
  },
  {
   "cell_type": "code",
   "execution_count": 208,
   "metadata": {},
   "outputs": [
    {
     "data": {
      "text/plain": [
       "127"
      ]
     },
     "execution_count": 208,
     "metadata": {},
     "output_type": "execute_result"
    }
   ],
   "source": [
    "nBullet"
   ]
  },
  {
   "cell_type": "code",
   "execution_count": 209,
   "metadata": {},
   "outputs": [
    {
     "data": {
      "text/plain": [
       "12813"
      ]
     },
     "execution_count": 209,
     "metadata": {},
     "output_type": "execute_result"
    }
   ],
   "source": [
    "sum(1 for g in games if g.game_type == 'BLITZ')"
   ]
  },
  {
   "cell_type": "code",
   "execution_count": 210,
   "metadata": {},
   "outputs": [
    {
     "data": {
      "text/plain": [
       "6168"
      ]
     },
     "execution_count": 210,
     "metadata": {},
     "output_type": "execute_result"
    }
   ],
   "source": [
    "sum(1 for g in games if g.game_type == 'RAPID')"
   ]
  },
  {
   "cell_type": "markdown",
   "metadata": {},
   "source": [
    "### Our baseline for comparison is predicting that the player with the higher rating will win. We ignore cases where the game ended in a draw. With this baseline we get an accuracy of 65.1% on the entire dataset, which is our accuracy to beat. For rated games the baseline has a 64.6% accuracy and for unrated games a 65.5% accuracy, or about 0.9 percentage points higher for unrated games."
   ]
  },
  {
   "cell_type": "markdown",
   "metadata": {},
   "source": [
    "|Baseline|Accuracy|\n",
    "|--------|--------|\n",
    "|Overall |0.651   |\n",
    "|Rated   |0.646   |\n",
    "|Unrated |0.655   |\n",
    "|Bullet  |0.646   |\n",
    "|Blitz   |0.652   |\n",
    "|Rapid   |0.649   |"
   ]
  },
  {
   "cell_type": "markdown",
   "metadata": {},
   "source": [
    "### 3. Describe your model. Explain and justify your decision to use the model you proposed. How will you optimize it? Did you run into any issues due to scalability, overfitting, etc.? What other models did you consider for comparison? What were your unsuccessful attempts along the way? What are the strengths and weaknesses of the different models being compared?"
   ]
  },
  {
   "cell_type": "code",
   "execution_count": 141,
   "metadata": {},
   "outputs": [],
   "source": [
    "# [1 rating_difference] 1 for white won, 0 for black won"
   ]
  },
  {
   "cell_type": "code",
   "execution_count": 32,
   "metadata": {},
   "outputs": [],
   "source": [
    "X = [[1, g.white_rating, g.black_rating,\n",
    "      1 if g.victory_status == 'outoftime' else 0,\n",
    "      1 if g.victory_status == 'resign' else 0,\n",
    "      1 if g.victory_status == 'mate' else 0] for g in games]\n",
    "y = [1 if g.winner == 'white' else 0 for g in games]"
   ]
  },
  {
   "cell_type": "code",
   "execution_count": 33,
   "metadata": {},
   "outputs": [],
   "source": [
    "X_train, X_test, y_train, y_test = train_test_split(X, y, test_size=0.1)"
   ]
  },
  {
   "cell_type": "code",
   "execution_count": 34,
   "metadata": {},
   "outputs": [],
   "source": [
    "def RegPipeline(cs):\n",
    "    accsTrain = []\n",
    "    accsTest = []\n",
    "    for c in cs:\n",
    "        clf = linear_model.LogisticRegression(C=c) # svm.SVC(C=c)\n",
    "        clf.fit(X_train, y_train)\n",
    "        accTrain = ClfAccuracy(X_train, y_train, clf)\n",
    "        accTest = ClfAccuracy(X_test, y_test, clf)\n",
    "        accsTrain.append(accTrain)\n",
    "        accsTest.append(accTest)\n",
    "    return accsTrain, accsTest"
   ]
  },
  {
   "cell_type": "code",
   "execution_count": 35,
   "metadata": {},
   "outputs": [],
   "source": [
    "accsTrSimple, accsTeSimple = RegPipeline([10**-i for i in range(-6,4)])"
   ]
  },
  {
   "cell_type": "code",
   "execution_count": 36,
   "metadata": {},
   "outputs": [
    {
     "data": {
      "text/plain": [
       "([0.65412571960225618,\n",
       "  0.65412571960225618,\n",
       "  0.65412571960225618,\n",
       "  0.65412571960225618,\n",
       "  0.65412571960225618,\n",
       "  0.65412571960225618,\n",
       "  0.65406756992498694,\n",
       "  0.65476536605221836,\n",
       "  0.65430016863406404,\n",
       "  0.65441646798860265],\n",
       " [0.63369963369963367,\n",
       "  0.63369963369963367,\n",
       "  0.63369963369963367,\n",
       "  0.63369963369963367,\n",
       "  0.63369963369963367,\n",
       "  0.63369963369963367,\n",
       "  0.63369963369963367,\n",
       "  0.63317634746206175,\n",
       "  0.6342229199372057,\n",
       "  0.63369963369963367])"
      ]
     },
     "execution_count": 36,
     "metadata": {},
     "output_type": "execute_result"
    }
   ],
   "source": [
    "accsTrSimple, accsTeSimple"
   ]
  },
  {
   "cell_type": "code",
   "execution_count": 37,
   "metadata": {},
   "outputs": [
    {
     "data": {
      "text/plain": [
       "[<matplotlib.lines.Line2D at 0x111474780>]"
      ]
     },
     "execution_count": 37,
     "metadata": {},
     "output_type": "execute_result"
    },
    {
     "data": {
      "image/png": "[encoded data removed]",
      "text/plain": [
       "<matplotlib.figure.Figure at 0x111469198>"
      ]
     },
     "metadata": {},
     "output_type": "display_data"
    }
   ],
   "source": [
    "xs = list(range(-6,4))\n",
    "plt.plot(xs, accsTrSimple)"
   ]
  },
  {
   "cell_type": "code",
   "execution_count": 38,
   "metadata": {},
   "outputs": [
    {
     "data": {
      "text/plain": [
       "[<matplotlib.lines.Line2D at 0x10fe09f98>]"
      ]
     },
     "execution_count": 38,
     "metadata": {},
     "output_type": "execute_result"
    },
    {
     "data": {
      "image/png": "[encoded data removed]",
      "text/plain": [
       "<matplotlib.figure.Figure at 0x10fdef9e8>"
      ]
     },
     "metadata": {},
     "output_type": "display_data"
    }
   ],
   "source": [
    "plt.plot(xs, accsTeSimple)"
   ]
  },
  {
   "cell_type": "code",
   "execution_count": 168,
   "metadata": {},
   "outputs": [],
   "source": [
    "accs = RegPipeline([10**i for i in range(-3,4)])"
   ]
  },
  {
   "cell_type": "code",
   "execution_count": 192,
   "metadata": {},
   "outputs": [],
   "source": [
    "accsTr1, accsTe1 = RegPipeline([10**i for i in np.arange(-1.5, 0.0, 0.1)])"
   ]
  },
  {
   "cell_type": "code",
   "execution_count": 182,
   "metadata": {},
   "outputs": [],
   "source": [
    "accs2 = RegPipeline([10**i for i in np.arange(-1.0, 0.0, 0.1)])"
   ]
  },
  {
   "cell_type": "code",
   "execution_count": 179,
   "metadata": {},
   "outputs": [
    {
     "data": {
      "text/plain": [
       "[0.60319042871385842,\n",
       " 0.61116650049850452,\n",
       " 0.61415752741774676,\n",
       " 0.61565304087736794,\n",
       " 0.61665004985044869,\n",
       " 0.61565304087736794,\n",
       " 0.61415752741774676,\n",
       " 0.61365902293120633,\n",
       " 0.61415752741774676,\n",
       " 0.61465603190428719]"
      ]
     },
     "execution_count": 179,
     "metadata": {},
     "output_type": "execute_result"
    }
   ],
   "source": [
    "accs"
   ]
  },
  {
   "cell_type": "code",
   "execution_count": 193,
   "metadata": {},
   "outputs": [
    {
     "data": {
      "text/plain": [
       "[<matplotlib.lines.Line2D at 0x1169a8d68>]"
      ]
     },
     "execution_count": 193,
     "metadata": {},
     "output_type": "execute_result"
    },
    {
     "data": {
      "image/png": "[encoded data removed]",
      "text/plain": [
       "<matplotlib.figure.Figure at 0x116d88e80>"
      ]
     },
     "metadata": {},
     "output_type": "display_data"
    }
   ],
   "source": [
    "xs = np.arange(-1.5, 0.0, 0.1)\n",
    "plt.plot(xs, accsTr1)"
   ]
  },
  {
   "cell_type": "code",
   "execution_count": 194,
   "metadata": {},
   "outputs": [
    {
     "data": {
      "text/plain": [
       "[<matplotlib.lines.Line2D at 0x116867668>]"
      ]
     },
     "execution_count": 194,
     "metadata": {},
     "output_type": "execute_result"
    },
    {
     "data": {
      "image/png": "[encoded data removed]",
      "text/plain": [
       "<matplotlib.figure.Figure at 0x1168ddd68>"
      ]
     },
     "metadata": {},
     "output_type": "display_data"
    }
   ],
   "source": [
    "plt.plot(xs, accsTe1)"
   ]
  },
  {
   "cell_type": "code",
   "execution_count": 183,
   "metadata": {},
   "outputs": [
    {
     "data": {
      "text/plain": [
       "[<matplotlib.lines.Line2D at 0x116f1b978>]"
      ]
     },
     "execution_count": 183,
     "metadata": {},
     "output_type": "execute_result"
    },
    {
     "data": {
      "image/png": "[encoded data removed]",
      "text/plain": [
       "<matplotlib.figure.Figure at 0x1170a7208>"
      ]
     },
     "metadata": {},
     "output_type": "display_data"
    }
   ],
   "source": [
    "xs2 = np.arange(-1.0, 0.0, 0.1)\n",
    "plt.plot(xs2, accs2)"
   ]
  },
  {
   "cell_type": "code",
   "execution_count": 158,
   "metadata": {},
   "outputs": [
    {
     "data": {
      "text/plain": [
       "SVC(C=1.0, cache_size=200, class_weight=None, coef0=0.0,\n",
       "  decision_function_shape='ovr', degree=3, gamma='auto', kernel='rbf',\n",
       "  max_iter=-1, probability=False, random_state=None, shrinking=True,\n",
       "  tol=0.001, verbose=False)"
      ]
     },
     "execution_count": 158,
     "metadata": {},
     "output_type": "execute_result"
    }
   ],
   "source": [
    "clfFirst = svm.SVC()\n",
    "clfFirst.fit(X_train, y_train)"
   ]
  },
  {
   "cell_type": "code",
   "execution_count": 13,
   "metadata": {},
   "outputs": [],
   "source": [
    "def ClfAccuracy(X, y, clf):\n",
    "    ps = clf.predict(X)\n",
    "    return sum(np.array(ps) == np.array(y)) / len(y)"
   ]
  },
  {
   "cell_type": "code",
   "execution_count": 159,
   "metadata": {},
   "outputs": [
    {
     "data": {
      "text/plain": [
       "0.66297363173055612"
      ]
     },
     "execution_count": 159,
     "metadata": {},
     "output_type": "execute_result"
    }
   ],
   "source": [
    "ClfAccuracy(X_train, y_train, clfFirst)"
   ]
  },
  {
   "cell_type": "code",
   "execution_count": 160,
   "metadata": {},
   "outputs": [
    {
     "data": {
      "text/plain": [
       "0.61216350947158527"
      ]
     },
     "execution_count": 160,
     "metadata": {},
     "output_type": "execute_result"
    }
   ],
   "source": [
    "ClfAccuracy(X_test, y_test, clfFirst)"
   ]
  },
  {
   "cell_type": "markdown",
   "metadata": {},
   "source": [
    "### 4. Describe literature related to the problem you are studying. If you are using an existing dataset, where did it come from and how was it used? What other similar datasets have been studied in the past and how? What are the state-of-the-art methods currently employed to study this type of data? Are the conclusions from existing work similar to or different from your own findings?"
   ]
  },
  {
   "cell_type": "code",
   "execution_count": null,
   "metadata": {},
   "outputs": [],
   "source": []
  },
  {
   "cell_type": "markdown",
   "metadata": {},
   "source": [
    "### 5. Describe your results and conclusions. How well does your model perform compared to alternatives, and what is the significance of the results? Which feature representations worked well and which do not? What is the interpretation of your model’s parameters? Why did the proposed model succeed why others failed (or if it failed, why did it fail)?"
   ]
  },
  {
   "cell_type": "code",
   "execution_count": null,
   "metadata": {},
   "outputs": [],
   "source": []
  }
 ],
 "metadata": {
  "kernelspec": {
   "display_name": "Python 3",
   "language": "python",
   "name": "python3"
  },
  "language_info": {
   "codemirror_mode": {
    "name": "ipython",
    "version": 3
   },
   "file_extension": ".py",
   "mimetype": "text/x-python",
   "name": "python",
   "nbconvert_exporter": "python",
   "pygments_lexer": "ipython3",
   "version": "3.6.8"
  }
 },
 "nbformat": 4,
 "nbformat_minor": 2
}
